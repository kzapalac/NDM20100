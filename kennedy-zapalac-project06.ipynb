{
 "cells": [
  {
   "cell_type": "markdown",
   "id": "be02a957-7133-4d02-818e-fedeb3cecb05",
   "metadata": {},
   "source": [
    "# Project 6 -- Kennedy Zapalac"
   ]
  },
  {
   "cell_type": "markdown",
   "id": "a1228853-dd19-4ab2-89e0-0394d7d72de3",
   "metadata": {},
   "source": [
    "**TA Help:** N/A\n",
    "    \n",
    "**Collaboration:** N/A"
   ]
  },
  {
   "cell_type": "markdown",
   "id": "6180e742-8e39-4698-98ff-5b00c8cf8ea0",
   "metadata": {},
   "source": [
    "## Question 1\n",
    "A. How many columns and rows are in the following dataset: `/anvil/projects/tdm/data/restaurant/orders.csv`."
   ]
  },
  {
   "cell_type": "code",
   "execution_count": 4,
   "id": "3a8b8de2-f283-4243-881b-0e8b4ad4252c",
   "metadata": {},
   "outputs": [
    {
     "name": "stdout",
     "output_type": "stream",
     "text": [
      "rows: 135304\n",
      "columns: 26\n"
     ]
    }
   ],
   "source": [
    "%%bash\n",
    "# Question 1\n",
    "# print the number of fields for each row, then count number of unique fields, which should output the number of rows\n",
    "# if each row has the same number of fields, which this file does\n",
    "# then print the first field (# of rows) and the second field (# of columns)\n",
    "cat /anvil/projects/tdm/data/restaurant/orders.csv | awk -F\",\" '{print NF}' | uniq -c | awk -F\" \" '{print \"rows: \"$1; print \"columns: \"$2}'\n",
    "# alternative if you're sure that each row has the same # of fields\n",
    "cat /anvil/projects/tdm/data/restaurant/orders.csv | awk -F\",\" '{ } END{print \"rows: \"NR; print \"columns: \"NF}'"
   ]
  },
  {
   "cell_type": "markdown",
   "id": "b456e57c-4a12-464b-999a-ef2df5af80c1",
   "metadata": {},
   "source": [
    "There are 135,304 rows and 26 columns in this dataset."
   ]
  },
  {
   "cell_type": "markdown",
   "id": "fc601975-35ed-4680-a4e1-0273ee3cc047",
   "metadata": {},
   "source": [
    "## Question 2\n",
    "A. Please list all possible values of \"Location Type\" in the file `/anvil/projects/tdm/data/restaurant/orders.csv`"
   ]
  },
  {
   "cell_type": "code",
   "execution_count": 30,
   "id": "a16336a1-1ef0-41e8-bc7c-49387db27497",
   "metadata": {},
   "outputs": [
    {
     "name": "stdout",
     "output_type": "stream",
     "text": [
      "Location Type    Number of Orders\n",
      "-------------    ----------------\n",
      "                 48893           \n",
      "Home             51484           \n",
      "Other            16669           \n",
      "Work             18257           \n"
     ]
    }
   ],
   "source": [
    "%%bash\n",
    "# Question 2\n",
    "# print the 25th field, the location type\n",
    "# remove the header\n",
    "# sort and count unique entries\n",
    "# print the first 2 lines\n",
    "# print the unique location types and number of orders for each location\n",
    "# format using printf, giving the first output 17 spaces and the second output 16 spaces from the left (- indicates left alignment)\n",
    "cat /anvil/projects/tdm/data/restaurant/orders.csv | awk -F\",\" '{print $25}' | grep -v LOCATION_TYPE | sort | uniq -c | \n",
    "awk 'BEGIN{print \"Location Type    Number of Orders\"; print \"-------------    ----------------\"} \n",
    "    {printf \"%-17s%-16s\\n\", $2, $1}'"
   ]
  },
  {
   "cell_type": "markdown",
   "id": "14dc22d4-ddc3-41cc-a91a-cb0025bc0c80",
   "metadata": {},
   "source": [
    "It looks like there are a lot of blank entries for the location type. Home is the most frequent location type for restaurant orders."
   ]
  },
  {
   "cell_type": "markdown",
   "id": "8e586edd-ff26-4ce2-8f6b-2424b26f2929",
   "metadata": {},
   "source": [
    "## Question 3\n",
    "A. What is the year range for the data in the dataset: `/anvil/projects/tdm/data/restaurant/orders.csv`"
   ]
  },
  {
   "cell_type": "code",
   "execution_count": 30,
   "id": "bbe0f40d-9655-4653-9ca8-886bdb61cb91",
   "metadata": {},
   "outputs": [
    {
     "name": "stdout",
     "output_type": "stream",
     "text": [
      "\n",
      "2019\n"
     ]
    }
   ],
   "source": [
    "%%bash\n",
    "# Question 3\n",
    "# grab the 21st field which contains the delivery date\n",
    "# remove the header\n",
    "# print just the date without the time\n",
    "# grab just the year\n",
    "# sort the years\n",
    "# output the unique years\n",
    "cat /anvil/projects/tdm/data/restaurant/orders.csv | awk -F\",\" '{print $21}' | grep -v delivery_date | awk -F\" \" '{print $1}' | awk -F\"-\" '{print $1}' | sort | uniq"
   ]
  },
  {
   "cell_type": "markdown",
   "id": "47c6229f-35f7-400c-8366-c442baa5cf47",
   "metadata": {},
   "source": [
    "All the data in this dataset comes from the year 2019."
   ]
  },
  {
   "cell_type": "markdown",
   "id": "da22f29c-d245-4d2b-9fc1-ca14cb6087d9",
   "metadata": {},
   "source": [
    "## Question 4\n",
    "A. What is the sum of the order amounts for each year in the data set `/anvil/projects/tdm/data/restaurant/orders.csv`"
   ]
  },
  {
   "cell_type": "code",
   "execution_count": 29,
   "id": "8cffc767-d1c8-4d64-b7dc-f0d2ee8a80d1",
   "metadata": {},
   "outputs": [
    {
     "name": "stdout",
     "output_type": "stream",
     "text": [
      "Year Summary of Orders in dollars\n",
      "2019 $2.08022e+06\n"
     ]
    }
   ],
   "source": [
    "%%bash\n",
    "# Question 4\n",
    "# the only year in this dataset is 2019, so I just have to sum the grand total (field 4) for every row and format the output\n",
    "cat /anvil/projects/tdm/data/restaurant/orders.csv | awk -F\",\" 'BEGIN{print \"Year Summary of Orders in dollars\"} {total += $4} END{print \"2019 $\" total}'"
   ]
  },
  {
   "cell_type": "markdown",
   "id": "0d552245-b4d6-474a-9cc9-fa7b8e674d55",
   "metadata": {},
   "source": [
    "The sum of the order amounts for 2019 (the only year in the dataset) is $2,080,220."
   ]
  },
  {
   "cell_type": "markdown",
   "id": "88c9cdac-3e92-498f-83fa-e089bfc44ac8",
   "metadata": {},
   "source": [
    "## Question 5\n",
    "Please extract both the years and months for the file: `/anvil/projects/tdm/data/whin/observations.csv`"
   ]
  },
  {
   "cell_type": "code",
   "execution_count": 53,
   "id": "d370d7c9-06db-42b9-b75f-240481a5c491",
   "metadata": {},
   "outputs": [
    {
     "name": "stdout",
     "output_type": "stream",
     "text": [
      "Month and Year    Number of Occurrences\n",
      "--------------    ---------------------\n",
      "2019-07           2002                 \n",
      "2019-08           3969                 \n",
      "2019-09           5749                 \n",
      "2019-10           5948                 \n",
      "2019-11           5731                 \n",
      "2019-12           5918                 \n",
      "2020-01           5482                 \n",
      "2020-02           5008                 \n",
      "2020-03           5436                 \n",
      "2020-04           19326                \n",
      "2020-05           42819                \n",
      "2020-06           45557                \n",
      "2020-07           50557                \n",
      "2020-08           53288                \n",
      "2020-09           53400                \n",
      "2020-10           58283                \n",
      "2020-11           57501                \n",
      "2020-12           59509                \n",
      "2021-01           61254                \n",
      "2021-02           60306                \n",
      "2021-03           81536                \n",
      "2021-04           80116                \n",
      "2021-05           83307                \n",
      "2021-06           80454                \n",
      "2021-07           67544                \n"
     ]
    }
   ],
   "source": [
    "%%bash\n",
    "# Question 5\n",
    "# pipe the output of cat\n",
    "# grab the 3rd field, which contains the observation date and time\n",
    "# print just the year and month\n",
    "# sort year and month\n",
    "# count unique combinations of year and month\n",
    "# format print output\n",
    "cat /anvil/projects/tdm/data/whin/observations.csv | awk -F\"|\" '{print $3}' | grep -v observation_time | awk -F\"-\" '{print $1, $2}' | sort | uniq -c | awk 'BEGIN{print \"Month and Year    Number of Occurrences\"; print \"--------------    ---------------------\"} {printf \"%-4s-%-13s%-21s\\n\", $2, $3, $1}'"
   ]
  },
  {
   "cell_type": "markdown",
   "id": "9fbf00fb-2418-460f-ae94-2a32b0c28952",
   "metadata": {},
   "source": [
    "It seems like 2021-05 is the most frequently occurring year and month combination in this dataset"
   ]
  },
  {
   "cell_type": "markdown",
   "id": "f76442d6-d02e-4f26-b9d6-c3183e1d6929",
   "metadata": {},
   "source": [
    "## Pledge\n",
    "\n",
    "By submitting this work I hereby pledge that this is my own, personal work. I've acknowledged in the designated place at the top of this file all sources that I used to complete said work, including but not limited to: online resources, books, and electronic communications. I've noted all collaboration with fellow students and/or TA's. I did not copy or plagiarize another's work.\n",
    "\n",
    "> As a Boilermaker pursuing academic excellence, I pledge to be honest and true in all that I do. Accountable together – We are Purdue."
   ]
  }
 ],
 "metadata": {
  "kernelspec": {
   "display_name": "seminar",
   "language": "python",
   "name": "seminar"
  },
  "language_info": {
   "codemirror_mode": {
    "name": "ipython",
    "version": 3
   },
   "file_extension": ".py",
   "mimetype": "text/x-python",
   "name": "python",
   "nbconvert_exporter": "python",
   "pygments_lexer": "ipython3",
   "version": "3.11.5"
  }
 },
 "nbformat": 4,
 "nbformat_minor": 5
}
