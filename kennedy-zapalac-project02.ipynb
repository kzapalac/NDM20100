{
 "cells": [
  {
   "cell_type": "markdown",
   "id": "be02a957-7133-4d02-818e-fedeb3cecb05",
   "metadata": {},
   "source": [
    "# Project 02 -- Kennedy Zapalac"
   ]
  },
  {
   "cell_type": "markdown",
   "id": "a1228853-dd19-4ab2-89e0-0394d7d72de3",
   "metadata": {},
   "source": [
    "**Faculty Help:** Dr. Ward\n",
    "\n",
    "- Asked for clarification regarding how I should format my output and which files I was supposed to be including for question 3 (sub-directories or no sub-directories)\n",
    "- Asked for clarifaction regarding how I should format my output for question 5 too\n",
    "    \n",
    "**Collaboration:** N/A"
   ]
  },
  {
   "cell_type": "markdown",
   "id": "6180e742-8e39-4698-98ff-5b00c8cf8ea0",
   "metadata": {},
   "source": [
    "## Question 1\n",
    "A. A list of length >=2 of modifications you made to your environment, in a markdown cell."
   ]
  },
  {
   "cell_type": "markdown",
   "id": "b456e57c-4a12-464b-999a-ef2df5af80c1",
   "metadata": {},
   "source": [
    "- Document Manager > Autosave Interval > 30\n",
    "- File Browser > Show hidden files > true\n",
    "- Notebook > Line Wrap > on"
   ]
  },
  {
   "cell_type": "markdown",
   "id": "fc601975-35ed-4680-a4e1-0273ee3cc047",
   "metadata": {},
   "source": [
    "## Question 2\n",
    "A. In a markdown cell, what is the absolute path of your home directory in Jupyter Labs?"
   ]
  },
  {
   "cell_type": "code",
   "execution_count": 1,
   "id": "a16336a1-1ef0-41e8-bc7c-49387db27497",
   "metadata": {},
   "outputs": [
    {
     "name": "stdout",
     "output_type": "stream",
     "text": [
      "/home/x-kzapalac\n",
      "/home/x-kzapalac\n"
     ]
    }
   ],
   "source": [
    "%%bash\n",
    "pwd # By default, I start in my home directory\n",
    "echo $HOME # another way to view my home directory"
   ]
  },
  {
   "cell_type": "markdown",
   "id": "aab4eef1-84c4-4b9c-aa0e-630466b85daa",
   "metadata": {},
   "source": [
    "The absolute path of my home directory is `/home/x-kzapalac`."
   ]
  },
  {
   "cell_type": "markdown",
   "id": "8e586edd-ff26-4ce2-8f6b-2424b26f2929",
   "metadata": {},
   "source": [
    "## Question 3\n",
    "A. bash to navigate to /anvil/projects/tdm/data\n",
    "\n",
    "B. bash to print the current working directory\n",
    "\n",
    "C. bash to list the files in the current working directory\n",
    "\n",
    "D. bash to list all of the files in /anvil/projects/tdm/data/movies_and_tv, including hidden files\n",
    "\n",
    "E. bash to return to your home directory\n",
    "\n",
    "F. bash to confirm that you are back in your home directory (print your current working directory)"
   ]
  },
  {
   "cell_type": "code",
   "execution_count": 3,
   "id": "bbe0f40d-9655-4653-9ca8-886bdb61cb91",
   "metadata": {},
   "outputs": [
    {
     "name": "stdout",
     "output_type": "stream",
     "text": [
      "part b begins here\n",
      "/anvil/projects/tdm/data\n",
      "/anvil/projects/tdm/data\n",
      "part c begins here\n",
      "8451\n",
      "airbnb\n",
      "amazon\n",
      "apple\n",
      "bay_area_bike_share\n",
      "beer\n",
      "bosch\n",
      "boundaries\n",
      "chinook\n",
      "coco\n",
      "consumer_complaints\n",
      "craigslist\n",
      "death_records\n",
      "disney\n",
      "donorschoose\n",
      "election\n",
      "expedia\n",
      "fao\n",
      "fars\n",
      "fips\n",
      "flights\n",
      "forest\n",
      "goodreads\n",
      "hidden\n",
      "icecream\n",
      "images\n",
      "iowa_liquor_sales\n",
      "lahman\n",
      "movies_and_tv\n",
      "noaa\n",
      "okcupid\n",
      "olympics\n",
      "open_food_facts\n",
      "otc\n",
      "precip\n",
      "restaurant\n",
      "scavenger_hunt\n",
      "sim\n",
      "stackoverflow\n",
      "taxi\n",
      "techcrunch\n",
      "tempstuff\n",
      "whin\n",
      "yelp\n",
      "youtube\n",
      "zillow\n",
      "part d begins here\n",
      "/anvil/projects/tdm/data/movies_and_tv:\n",
      ".\n",
      "..\n",
      "akas.csv\n",
      "crew.csv\n",
      "diagram.txt\n",
      "episodes.csv\n",
      "imdb-old.db\n",
      "imdb.db\n",
      "imdb2023\n",
      "people.csv\n",
      "ratings.csv\n",
      "rotten_tomatoes\n",
      "rotten_tomatoes_movies.csv\n",
      "rotten_tomatoes_reviews.csv\n",
      "the_office_dialogue.csv\n",
      "titles.csv\n",
      "\n",
      "/anvil/projects/tdm/data/movies_and_tv/imdb2023:\n",
      ".\n",
      "..\n",
      "name.basics.tsv\n",
      "title.akas.tsv\n",
      "title.basics.tsv\n",
      "title.crew.tsv\n",
      "title.episode.tsv\n",
      "title.principals.tsv\n",
      "title.ratings.tsv\n",
      "\n",
      "/anvil/projects/tdm/data/movies_and_tv/rotten_tomatoes:\n",
      ".\n",
      "..\n",
      "rotten_tomatoes_critic_reviews.csv\n",
      "rotten_tomatoes_movies.csv\n",
      "part f begins here\n",
      "/home/x-kzapalac\n"
     ]
    }
   ],
   "source": [
    "%%bash\n",
    "cd /anvil/projects/tdm/data\n",
    "echo \"part b begins here\"\n",
    "pwd\n",
    "echo $PWD \n",
    "echo \"part c begins here\"\n",
    "ls\n",
    "echo \"part d begins here\"\n",
    "ls -aR /anvil/projects/tdm/data/movies_and_tv\n",
    "cd ~\n",
    "echo \"part f begins here\"\n",
    "pwd"
   ]
  },
  {
   "cell_type": "markdown",
   "id": "da22f29c-d245-4d2b-9fc1-ca14cb6087d9",
   "metadata": {},
   "source": [
    "## Question 4\n",
    "A. Write a single command to navigate to the modulefiles directory: /anvil/projects/tdm/opt/lmod, then confirm that you are in the correct directory using the echo command. (0.5 pts)\n",
    "\n",
    "B. Write a single command to navigate back to your home directory, using relative paths, then confirm that you are in the correct directory using the 'echo' command. (0.5 pts)"
   ]
  },
  {
   "cell_type": "code",
   "execution_count": 3,
   "id": "8cffc767-d1c8-4d64-b7dc-f0d2ee8a80d1",
   "metadata": {},
   "outputs": [
    {
     "name": "stdout",
     "output_type": "stream",
     "text": [
      "/anvil/projects/tdm/opt/lmod\n",
      "/home/x-kzapalac\n"
     ]
    }
   ],
   "source": [
    "%%bash\n",
    "cd /anvil/projects/tdm/opt/lmod\n",
    "echo $PWD\n",
    "cd ../../../../../home/x-kzapalac\n",
    "echo $PWD"
   ]
  },
  {
   "cell_type": "markdown",
   "id": "88c9cdac-3e92-498f-83fa-e089bfc44ac8",
   "metadata": {},
   "source": [
    "## Question 5\n",
    "A. Navigate to your scratch directory using environment variables.\n",
    "- `scratch` is meant for use with *really* large chunks of data\n",
    "- The quota on Anvil is currently 100TB and 1 million files. You can see your quota usage on Anvil by running the following command `myquota`\n",
    "\n",
    "B. Run `tokei` on your home directory (use an environment variable).\n",
    "\n",
    "C. Output the first 5 lines and last 5 lines of `/anvil/datasets/training/anvil-101/batch-test/batch-test-README`. Make sure it is clear which lines are the first 5 and which are the last 5.\n",
    "\n",
    "D. Output the number of lines in `/anvil/datasets/training/anvil-101/batch-test/batch-test-README`\n",
    "\n",
    "E. Output the size, in bytes, of `/anvil/datasets/training/anvil-101/batch-test/batch-test-README`\n",
    "\n",
    "F. Output the location of the `tokei` program we used earlier."
   ]
  },
  {
   "cell_type": "code",
   "execution_count": 4,
   "id": "d370d7c9-06db-42b9-b75f-240481a5c491",
   "metadata": {},
   "outputs": [
    {
     "name": "stdout",
     "output_type": "stream",
     "text": [
      "===============================================================================\n",
      " Language            Files        Lines         Code     Comments       Blanks\n",
      "===============================================================================\n",
      " JSON                   15          169          169            0            0\n",
      " Python                 15          141          129            8            4\n",
      " R                       1           23           15            6            2\n",
      " Shell                  30         1940         1157          428          355\n",
      " SQL                     1            8            7            1            0\n",
      " YAML                    7           21           21            0            0\n",
      "-------------------------------------------------------------------------------\n",
      " Jupyter Notebooks       3            0            0            0            0\n",
      " |- Markdown             3          163            0          121           42\n",
      " |- Python               3          128           97           20           11\n",
      " (Total)                            291           97          141           53\n",
      "===============================================================================\n",
      " Total                  72         2302         1498          443          361\n",
      "===============================================================================\n",
      "First 5 lines:\n",
      "1. cd $SCRATCH                                                  # go to your scratch directory\n",
      "2. cp -r /anvil/datasets/training/anvil-101/sbatch-test .\t# copy the test folder to your scratch directory\n",
      "3. cd sbatch-test \t\t\t\t\t\t# go to the sbatch-test folder \n",
      "4. ls \n",
      "5. sbatch myjobsubmitscript\t\t\t\t\t# submit a sbatch job\n",
      "Last 5 lines:\n",
      "10. scancel XXXXXX   \t\t\t\t\t\t# kill the job with my jobID\n",
      "11. jobinfo XXXXXX   \t\t\t\t\t\t# check historic (completed) job information with my jobID\n",
      "\n",
      "\n",
      "\n",
      "Number of lines in README:\n",
      "14 /anvil/datasets/training/anvil-101/batch-test/batch-test-README\n",
      "Size in bytes of README:\n",
      "684 /anvil/datasets/training/anvil-101/batch-test/batch-test-README\n",
      "Location of tokei:\n",
      "/anvil/projects/tdm/bin/tokei\n"
     ]
    }
   ],
   "source": [
    "%%bash\n",
    "cd $SCRATCH\n",
    "tokei $HOME\n",
    "echo \"First 5 lines:\"\n",
    "head -n 5 /anvil/datasets/training/anvil-101/batch-test/batch-test-README\n",
    "echo \"Last 5 lines:\"\n",
    "tail -n 5 /anvil/datasets/training/anvil-101/batch-test/batch-test-README # the last 3 lines are blank\n",
    "echo \"Number of lines in README:\"\n",
    "wc -l /anvil/datasets/training/anvil-101/batch-test/batch-test-README\n",
    "echo \"Size in bytes of README:\"\n",
    "wc -c /anvil/datasets/training/anvil-101/batch-test/batch-test-README\n",
    "echo \"Location of tokei:\"\n",
    "which tokei"
   ]
  },
  {
   "cell_type": "markdown",
   "id": "ec0fecbf-a6b5-4aa0-a329-b7cfffc74310",
   "metadata": {},
   "source": [
    "## Question 6\n",
    "A. Navigate to your scratch directory.\n",
    "\n",
    "B. Copy the file `/anvil/projects/tdm/data/movies_and_tv/imdb.db` to your current working directory.\n",
    "\n",
    "C. Create a new directory called `movies_and_tv` in your current working directory.\n",
    "\n",
    "D. Move the file, `imdb.db`, from your scratch directory to the newly created `movies_and_tv directory` (inside of scratch).\n",
    "\n",
    "E. Use `touch` to create a new, empty file called `im_empty.txt` in your scratch directory.\n",
    "\n",
    "F. Remove the directory, `movies_and_tv`, from your scratch directory, including all of the contents.\n",
    "\n",
    "G. Remove the file, `im_empty.txt`, from your scratch directory."
   ]
  },
  {
   "cell_type": "code",
   "execution_count": 5,
   "id": "e28bf40d-d404-415b-9257-18d196824ceb",
   "metadata": {},
   "outputs": [],
   "source": [
    "%%bash\n",
    "cd $SCRATCH\n",
    "cp /anvil/projects/tdm/data/movies_and_tv/imdb.db .\n",
    "mkdir movies_and_tv\n",
    "mv $SCRATCH/imdb.db ./movies_and_tv\n",
    "touch im_empty.txt\n",
    "rm -r movies_and_tv\n",
    "rm im_empty.txt"
   ]
  },
  {
   "cell_type": "markdown",
   "id": "29392479-6ea5-4d19-bd05-6ad15a371fc5",
   "metadata": {},
   "source": [
    "## Question 7\n",
    "A. Use terminal autocompletion to print the contents of hello_there.txt, and put the contents in a markdown cell in your notebook."
   ]
  },
  {
   "cell_type": "markdown",
   "id": "937fdfcb-459b-44b2-b7c2-109e693730de",
   "metadata": {},
   "source": [
    "**Answer:**\n",
    "Tab completion is pretty cool. Don't be surprised if you start typing \"Tab\" when writing emails expecting it to read your mind. Shells like zsh can have even cooler completion."
   ]
  },
  {
   "cell_type": "markdown",
   "id": "f76442d6-d02e-4f26-b9d6-c3183e1d6929",
   "metadata": {},
   "source": [
    "## Pledge\n",
    "\n",
    "By submitting this work I hereby pledge that this is my own, personal work. I've acknowledged in the designated place at the top of this file all sources that I used to complete said work, including but not limited to: online resources, books, and electronic communications. I've noted all collaboration with fellow students and/or TA's. I did not copy or plagiarize another's work.\n",
    "\n",
    "> As a Boilermaker pursuing academic excellence, I pledge to be honest and true in all that I do. Accountable together – We are Purdue."
   ]
  }
 ],
 "metadata": {
  "kernelspec": {
   "display_name": "seminar",
   "language": "python",
   "name": "seminar"
  },
  "language_info": {
   "codemirror_mode": {
    "name": "ipython",
    "version": 3
   },
   "file_extension": ".py",
   "mimetype": "text/x-python",
   "name": "python",
   "nbconvert_exporter": "python",
   "pygments_lexer": "ipython3",
   "version": "3.11.3"
  }
 },
 "nbformat": 4,
 "nbformat_minor": 5
}
