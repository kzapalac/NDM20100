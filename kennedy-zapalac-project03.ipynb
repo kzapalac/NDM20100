{
 "cells": [
  {
   "cell_type": "markdown",
   "id": "be02a957-7133-4d02-818e-fedeb3cecb05",
   "metadata": {},
   "source": [
    "# Project 3 -- Kennedy Zapalac"
   ]
  },
  {
   "cell_type": "markdown",
   "id": "a1228853-dd19-4ab2-89e0-0394d7d72de3",
   "metadata": {},
   "source": [
    "**TA Help:** John Smith, Alice Jones\n",
    "\n",
    "- Help with figuring out how to write a function.\n",
    "    \n",
    "**Collaboration:** Friend1, Friend2\n",
    "    \n",
    "- Helped figuring out how to load the dataset.\n",
    "- Helped debug error with my plot.\n",
    "\n",
    "**Website:**\n",
    "\n",
    "- Looked up how to remove leading whitespace from uniq output and used this [website](https://askubuntu.com/questions/1087885/why-did-the-command-uniq-c-put-a-whitespace-at-the-beginning)\n",
    "- Learned more about sed [here](https://www.geeksforgeeks.org/sed-command-in-linux-unix-with-examples/)"
   ]
  },
  {
   "cell_type": "markdown",
   "id": "6180e742-8e39-4698-98ff-5b00c8cf8ea0",
   "metadata": {},
   "source": [
    "## Question 1\n",
    "A. Write a `grep` command that finds the dataset, which contains text \"朝阳区\" in all directories that start with `air` inside the `/anvil/projects/tdm/data` directory. As with the example given above, you search should be case-insensitive, and your needs to display the line numbers for the location of the text."
   ]
  },
  {
   "cell_type": "code",
   "execution_count": 2,
   "id": "3a8b8de2-f283-4243-881b-0e8b4ad4252c",
   "metadata": {},
   "outputs": [],
   "source": [
    "%%bash\n",
    "grep -Rin \"朝阳区\" /anvil/projects/tdm/data/air* >kennedy-zapalac-project03-Q1output.txt # too much output to run directly  in jupyter notebook so I saved the output to another file"
   ]
  },
  {
   "cell_type": "markdown",
   "id": "b456e57c-4a12-464b-999a-ef2df5af80c1",
   "metadata": {},
   "source": [
    "Markdown notes and sentences and analysis written here."
   ]
  },
  {
   "cell_type": "markdown",
   "id": "fc601975-35ed-4680-a4e1-0273ee3cc047",
   "metadata": {},
   "source": [
    "## Question 2\n",
    "A. Use the `head` command to print out the first line only from the file `/anvil/projects/tdm/data/consumer_complaints/processed.csv`.\n",
    "\n",
    "B. Print out first 5 lines from 3 columns, namely: `Date Received`, `Issue` and `Company response to consumer` from the file `/anvil/projects/tdm/data/consumer_complaints/processed.csv`\n",
    "\n",
    "C. For the single line where we heard about the \"That’s the sort of fraudy fraudulent fraud\", print out these 4 columns: `Date Received`, `Issue`, `Consumer complaint narrative`, and `Company response to consumer`."
   ]
  },
  {
   "cell_type": "code",
   "execution_count": 1,
   "id": "a16336a1-1ef0-41e8-bc7c-49387db27497",
   "metadata": {},
   "outputs": [
    {
     "name": "stdout",
     "output_type": "stream",
     "text": [
      "Date received,Product,Sub-product,Issue,Sub-issue,Consumer complaint narrative,Company public response,Company,State,ZIP code,Tags,Consumer consent provided?,Submitted via,Date sent to company,Company response to consumer,Timely response?,Consumer disputed?,Complaint ID\n"
     ]
    }
   ],
   "source": [
    "%%bash\n",
    "# A\n",
    "head -n 1 /anvil/projects/tdm/data/consumer_complaints/processed.csv"
   ]
  },
  {
   "cell_type": "code",
   "execution_count": 10,
   "id": "9e211f0f-07ab-440b-8a98-8dcd7d891f78",
   "metadata": {},
   "outputs": [
    {
     "name": "stdout",
     "output_type": "stream",
     "text": [
      "Date received,Issue,Company response to consumer\n",
      "2013-08-26,Loan servicing payments escrow account,Closed with explanation\n",
      "2023-07-23,Incorrect information on your report,In progress\n",
      "2023-07-24,Attempts to collect debt not owed,Closed with explanation\n",
      "2023-07-22,Problem with a credit reporting company's investigation into an existing problem,In progress\n"
     ]
    }
   ],
   "source": [
    "%%bash\n",
    "# B\n",
    "cat /anvil/projects/tdm/data/consumer_complaints/processed.csv | head -n 5 | cut -d, -f 1,4,15"
   ]
  },
  {
   "cell_type": "code",
   "execution_count": 21,
   "id": "731474d8-810d-403c-a33f-35a76f29580d",
   "metadata": {},
   "outputs": [
    {
     "name": "stdout",
     "output_type": "stream",
     "text": [
      "2018-11-13,Managing the loan or lease,I financed my XXXX XXXX through Wells Fargo in XX/XX/XXXX on a five-year note. After I moved from Oklahoma to Wisconsin in XX/XX/XXXX I had a hiccup in my car insurance payment where it was sent to the old payment address that I'd used as an Oklahoma driver instead of the new payment address that I should have been using as a Wisconsin driver. That was totally my fault ; my insurance company contacted me the payment was applied to my insurance premium a few days after its original due date and I updated my online billpay to reflect the correct payment address for my future insurance premiums. nA few days later I got a letter from Wells Fargo stating that they'd been notified of a late payment by my insurance company and that if I didn't provide proof of coverage they were going to provide coverage themselves and bill me for the additional premiums. Now please don't get me wrong -- I was fine with that. It was my responsibility to insure the car that Wells Fargo was financing and it was my fault that an insurance premium was received late. I called my insurance agent provided him with the fax number for providing proof of insurance to Wells Fargo and they faxed the requested proof of insurance over while I was still on the line. nHere 's where things REALLY get interesting! nTwo or three days later I placed a follow-up call to Wells Fargo to ensure that they'd received what they needed. The woman that I spoke with sounded confused and said it looked like I'd been paying insurance premiums to Wells Fargo since I first bought my Jeep. I explained that this wasn't the case -- that I was calling in response to their letter -- and she explained that she was new didn't understand what she was seeing on my account but would get help from a supervisor.nI spent about eight to ten minutes on hold before she came back said she'd been mistaken that they'd received my fax and everything was fine. nNow one thing you should know is that I paid my car installments to Wells Fargo ahead of schedule. Every month I paid early and I always paid extra every month and so in XX/XX/XXXX I couldn't understand why the principal that I owed on my XXXX  was higher than it ought to have been if I'd paid my installments according to their schedule. Once again I called Wells Fargo. nThe woman that I spoke with this time said that my principal balance had gone up because Wells Fargo had billed me for insurance premiums. I asked to speak to a supervisor and suddenly her story changed : I was told that I'd been billed for insurance premiums but those premiums had also been refunded to me so that that in the end they hadn't increased my principal balance at all. I was told that I hadn't made as many extra payments as I thought I had and that their accounting was correct. Wells Fargo refused to provide me with any sort of billing and payment summary -- my questions weren't answered. I continued to pay off my XXXX early every month until the loan was paid off in XX/XX/XXXX. nIn XX/XX/XXXX I saw a news article about Wells Fargo being fined a XXXX dollars by the Consumer Financial Protection Bureau for fraudulently charging its car loan customers for unwanted auto insurance. nOf course I instantly knew that I'd been one of those customers even before I got the letter from Wells Fargo in XX/XX/XXXX. nThat letter was very apologetic and promised to make full restitution although Wells Fargo didn't use the word 'fraud ' the way that the CFPB had used it when fining the XXXX out of them. I think Wells Fargo 's letter used the word 'mistakenly ' or 'in error ' or 'inadvertently ' or somesuch nonsense sprinkled in with a few \"\" unfortunatelies '' and \"\" sincerelies. '' It was fraud. nPure and simple fraud. nFraudy fraudulent fraud. Wells Fargo fraudulently defrauded fraud victims with this sort of fraudy fraud. nI was asked to furnish Wells Fargo with 'proof ' that I'd maintained my own private auto insurance coverage so that Wells Fargo could reimburse me for any periods where I'd been charged for their in-house insurance product 'in error ' in order to qualify for a full refund ... along with Wells Fargo 's most profound apologies. Sincere apologies. Big wet crocodile teardrop apologies. Wells Fargo was SOOOOO very sorry that it had gotten caught stealing from me.nI sent Wells Fargo the requested information via USPS certified mail. I know they received it before the deadline. I have the proof of delivery.nAbout six months later I received a check from Wells Fargo.nIN.nTHE.nAMOUNT.nOF.nXXXX XXXX.nDOLLARS. nYou read that right. My 'full restitution ' for Wells Fargo 's mistaken completely in error unfortunate deeply regretted certainly-not-a-case-of-fraud was {$29.00}. nKeep in mind that I still haven't received any full accounting of my account history because Wells Fargo won't provide that information to me. nAfter working the phones for a few days I finally got in touch with Wells Fargo 's office of the president. What I learned was that Wells Fargo had fraudulently added {$840.00} to my principal loan balance in XX/XX/XXXX and XX/XX/XXXX long before I moved to Wisconsin and had my little incident with a misapplied insurance payment. I was charged another lump-sum amount for insurance coverage in XX/XX/XXXX and XX/XX/XXXX but that they'd canceled that coverage after I called them to make sure they're received my agent 's fax refunding all but {$260.00} of that second amount.nKeep in mind the agent who presumably canceled that insurance in XX/XX/XXXX told me that she'd been mistaken about seeing insurance on my account. nKeep in mind that I'd been told by a supervisor that I'd been completely refunded for all insurance premiums so that they hadn't increased my loan amount. nKeep in mind that Wells Fargo initially tried to make me go away with a {$29.00} check. nThat's the sort of fraudy fraudulent fraud that Wells Fargo defrauds its fraud-victim customers with. Fraudulently. nFraud. Fraud. Fraud.nBy my reckoning then Wells Fargo stole {$840.00} and {$260.00} from me plus compounded interest on this amount from XX/XX/XXXX to XX/XX/XXXX less the {$29.00} insult check that they sent to me. nKeep in mind that these are Wells Fargo 's numbers and that to this day I don't know exactly what charges were applied to my principal loan amount or on what dates or how much interest was charged on this balance because Wells Fargo won't tell me. nCompletely setting aside interest amounts -- and I want a refund on interest paid I just don't know how much that was -- Wells Fargo owes me {$1000.00} in fraudulent charges applied to my principal loan amount. I think we've been more or less in agreement on that amount since XX/XX/XXXX -- or at least Wells Fargo doesn't dispute that amount -- but they still won't pay me. nThe funny thing is that Wells Fargo has spent about XXXX months \"\" verifying my insurance coverage '' prior to payment -- that strikes me as funny because they really should have done that BEFORE billing me for their insurance product. nLate in XX/XX/XXXX I read in the news that Wells Fargo had told the CFPB that it wouldn't be prepared to begin making settlement offers to its victims until XX/XX/XXXX and that it wouldn't complete its restitution payments until XX/XX/XXXX. nSo as I understand it Wells Fargo notified me of fraudulent charges on my account in XX/XX/XXXX five years after it added those charges to to my loan balance and four years after it first lied to me about those charges -- and now Wells Fargo has decided that it's going to take another two years to decide how to make that situation right as if that solution weren't already obvious and THEN Wells Fargo is going to graciously allow itself another year to actually return the money that it had no right to take in the first place. nThe REAL kicker was reading last week that a top official at Wells Fargo Bank was aware of this fraud in XX/XX/XXXX but did nothing to stop it -- and HE STILL HAS A JOB AT THIS COMPANY. nI just want my money back. How in God 's name do I push Wells Fargo 's monstrous bureaucracy into action?,Closed with monetary relief\n"
     ]
    }
   ],
   "source": [
    "%%bash\n",
    "# C\n",
    "cat /anvil/projects/tdm/data/consumer_complaints/processed.csv | grep 'fraudy fraudulent fraud' | cut -d, -f 1,4,6,15"
   ]
  },
  {
   "cell_type": "markdown",
   "id": "8e586edd-ff26-4ce2-8f6b-2424b26f2929",
   "metadata": {},
   "source": [
    "## Question 3\n",
    "A. From the file `/anvil/projects/tdm/data/consumer_complaints/processed.csv`, use a one line statement to create a new dataset called `midwest.csv` that has the following requirments:\n",
    "- it will only contain the data for these five states: - Indiana (IN), Ohio (OH), Illinois (IL), Wisconsin (WI), and Michigan (MI)\n",
    "- it will only the contain these five columns: `Date Received`, `Issue`, `Consumer complaint narrative`, `Company response to consumer`, and `state`\n",
    "\n",
    "B. Please describe how many rows of data are in the new file, and find the size of the new file in megabytes"
   ]
  },
  {
   "cell_type": "code",
   "execution_count": 5,
   "id": "5774b58b-43ba-43c1-92bb-ecc1b91306da",
   "metadata": {},
   "outputs": [
    {
     "name": "stdout",
     "output_type": "stream",
     "text": [
      " 154436 IL\n",
      "  41103 IN\n",
      "  88063 MI\n",
      " 101252 OH\n",
      "  31778 WI\n"
     ]
    }
   ],
   "source": [
    "%%bash\n",
    "# A\n",
    "# surround states with commas to match values in the state field\n",
    "cat /anvil/projects/tdm/data/consumer_complaints/processed.csv | grep \",IN,\\|,OH,\\|,IL,\\|,WI,\\|,MI,\" |cut -d, -f 1,4,6,9,15 >midwest.csv"
   ]
  },
  {
   "cell_type": "code",
   "execution_count": 9,
   "id": "8f4ebee3-9dcb-4ffd-8706-976687d5d299",
   "metadata": {},
   "outputs": [
    {
     "name": "stdout",
     "output_type": "stream",
     "text": [
      "rows of data in mimdwest.csv:\n",
      "416632\n",
      "size of midwest.csv in megabytes\n",
      "202MB\n"
     ]
    }
   ],
   "source": [
    "%%bash\n",
    "# B\n",
    "# can use ls or wc for this question\n",
    "echo \"rows of data in mimdwest.csv:\"\n",
    "wc -l midwest.csv | cut -d ' ' -f 1 # use cut to reduce the output\n",
    "echo \"size of midwest.csv in megabytes\"\n",
    "ls -l --block-size=MB midwest.csv | cut -d ' ' -f 5 # can use a 1 in front of MB to remove MB from 202MB"
   ]
  },
  {
   "cell_type": "markdown",
   "id": "da22f29c-d245-4d2b-9fc1-ca14cb6087d9",
   "metadata": {},
   "source": [
    "## Question 4"
   ]
  },
  {
   "cell_type": "markdown",
   "id": "0d46ffe8-9e18-43c2-b14d-d95b1dad7ca1",
   "metadata": {},
   "source": [
    "A. Use grep command to get information from the new data set 'midwest.csv' to find the number of rows that contain one (or more) of the following words (the search is case-insensitive): \"improper\", \"struggling\", or \"incorrect\"."
   ]
  },
  {
   "cell_type": "code",
   "execution_count": 37,
   "id": "37c98b07-fa36-439c-aaf5-9ad2276c89f9",
   "metadata": {},
   "outputs": [
    {
     "name": "stdout",
     "output_type": "stream",
     "text": [
      "rows with improper, struggling, or incorrect:\n",
      "181277\n"
     ]
    }
   ],
   "source": [
    "%%bash\n",
    "echo \"rows with improper, struggling, or incorrect:\"\n",
    "grep -ic \"improper\\|struggling\\|incorrect\" midwest.csv"
   ]
  },
  {
   "cell_type": "markdown",
   "id": "88c9cdac-3e92-498f-83fa-e089bfc44ac8",
   "metadata": {},
   "source": [
    "## Question 5\n",
    "A. In the file /anvil/projects/tdm/data/consumer_complaints/processed.csv, which date appears the most in the Date received column?\n",
    "\n",
    "B. In the file /anvil/projects/tdm/data/consumer_complaints/processed.csv, for each category of Product, how many times does that type product appear in the data set?"
   ]
  },
  {
   "cell_type": "code",
   "execution_count": 7,
   "id": "b71ae591-6135-4134-a76c-daba95130e33",
   "metadata": {},
   "outputs": [
    {
     "name": "stdout",
     "output_type": "stream",
     "text": [
      "Date that appears the most:\n",
      "2023-06-27\n"
     ]
    }
   ],
   "source": [
    "%%bash\n",
    "# A\n",
    "echo \"Date that appears the most:\"\n",
    "cat /anvil/projects/tdm/data/consumer_complaints/processed.csv | cut -d, -f1 | sort | uniq -c | sed 's/^\\s*//' | sort -nr |head -n 1 |cut -d\" \" -f2-\n",
    "# must sort before using uniq\n",
    "# sed used to remove leading white spaces outputted by uniq\n",
    "# must use -n option for the second sort so that it sorts according to the whole number rather than the first digit, then second digit, etc\n",
    "# sorted in descending order, so used head to pull the most frequent date\n",
    "# cut to return only the date and not its frequency"
   ]
  },
  {
   "cell_type": "code",
   "execution_count": 8,
   "id": "fc7c4577-4879-404d-83ec-e4674bae6204",
   "metadata": {},
   "outputs": [
    {
     "name": "stdout",
     "output_type": "stream",
     "text": [
      "Occurence of each product in the file:\n",
      "1 Debt collection\n",
      "1 Product\n",
      "4 Credit reporting credit repair services or other personal consumer reports\n",
      "4 Mortgage\n"
     ]
    }
   ],
   "source": [
    "%%bash\n",
    "# B\n",
    "echo \"Occurence of each product in the file:\"\n",
    "head /anvil/projects/tdm/data/consumer_complaints/processed.csv | cut -d, -f2 | sort | uniq -c | sed 's/^\\s*//' | sort -n\n",
    "# sed used to remove leading white spaces outputted by uniq"
   ]
  },
  {
   "cell_type": "markdown",
   "id": "f76442d6-d02e-4f26-b9d6-c3183e1d6929",
   "metadata": {},
   "source": [
    "## Pledge\n",
    "\n",
    "By submitting this work I hereby pledge that this is my own, personal work. I've acknowledged in the designated place at the top of this file all sources that I used to complete said work, including but not limited to: online resources, books, and electronic communications. I've noted all collaboration with fellow students and/or TA's. I did not copy or plagiarize another's work.\n",
    "\n",
    "> As a Boilermaker pursuing academic excellence, I pledge to be honest and true in all that I do. Accountable together – We are Purdue."
   ]
  }
 ],
 "metadata": {
  "kernelspec": {
   "display_name": "seminar",
   "language": "python",
   "name": "seminar"
  },
  "language_info": {
   "codemirror_mode": {
    "name": "ipython",
    "version": 3
   },
   "file_extension": ".py",
   "mimetype": "text/x-python",
   "name": "python",
   "nbconvert_exporter": "python",
   "pygments_lexer": "ipython3",
   "version": "3.11.3"
  }
 },
 "nbformat": 4,
 "nbformat_minor": 5
}
