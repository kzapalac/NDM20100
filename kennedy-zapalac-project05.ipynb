{
 "cells": [
  {
   "cell_type": "markdown",
   "id": "be02a957-7133-4d02-818e-fedeb3cecb05",
   "metadata": {},
   "source": [
    "# Project 5 -- Kennedy Zapalac"
   ]
  },
  {
   "cell_type": "markdown",
   "id": "a1228853-dd19-4ab2-89e0-0394d7d72de3",
   "metadata": {},
   "source": [
    "**Piazza Help:**\n",
    "- Question 1: asked if it was ok to search the whole line for the text, and Dr. Ward said yes\n",
    "\n",
    "**Websites:**\n",
    "- I used [this website](https://www.geeksforgeeks.org/awk-command-unixlinux-examples/) to learn more about the functionality of `awk` for question 5"
   ]
  },
  {
   "cell_type": "code",
   "execution_count": null,
   "id": "823fb66d-9b9c-42a2-bf7f-46a6b3ef7a60",
   "metadata": {},
   "outputs": [],
   "source": [
    "%%bash\n",
    "# awk format just for my reference\n",
    "awk -F\";\" 'BEGIN{ } { } END{ }'\n",
    "\n",
    "# The -F is for the delimeter that occurs between pieces of data in your file\n",
    "\n",
    "# The BEGIN portion of an awk program runs at the ver start before we process the file, for instance, in you want to print a header ad the top of the out, then put it inot the BEGIN section of an awk program\n",
    "\n",
    "# # The main portion of an awk program runs once per line of the data\n",
    "# This is definitely the most important part of an awk program!\n",
    "\n",
    "# The END portion of an awk porgram runs at the very end of the processing of the file just one time for instance, if you to print a summary of what you foudn in the data in some way, it often goes in the END portion of an awk program\n",
    "\n",
    "# The BEGIN and END portions are actually optional so many awk programs just look like this:\n",
    "\n",
    "awk -F\";\" '{ the stuff in here runs one time per line of your data set }'\n",
    "\n",
    "# some awk prgrams look like this, without any BEGIN but they do have an END:\n",
    "\n",
    "awk -F\";\" '{ } END{ }'"
   ]
  },
  {
   "cell_type": "markdown",
   "id": "6180e742-8e39-4698-98ff-5b00c8cf8ea0",
   "metadata": {},
   "source": [
    "## Question 1\n",
    "A. What is the total cost of purchases with `WHISKIES` in the title?\n",
    "\n",
    "B. What is the total cost of all purchases from `CEDAR RAPIDS` (not just `WHISKIES`; consider all purchases)"
   ]
  },
  {
   "cell_type": "code",
   "execution_count": 13,
   "id": "5b47ea32-da09-4f35-90c5-43c39e27efdf",
   "metadata": {},
   "outputs": [
    {
     "name": "stdout",
     "output_type": "stream",
     "text": [
      "Total cost of purchases with WHISKIES in the line\n",
      "8.59911e+07\n"
     ]
    }
   ],
   "source": [
    "%%bash\n",
    "# question 1a\n",
    "echo \"Total cost of purchases with WHISKIES in the line\"\n",
    "# searching for whiskies in the whole line and adding state bottle price to myprices if the line contains that\n",
    "# was told it's ok to search the whole line\n",
    "# repeat for each line\n",
    "# finally print the total cost of purchases with whiskies in the line, represented by myprices\n",
    "cat /anvil/projects/tdm/data/iowa_liquor_sales/iowa_liquor_sales_cleaner.txt | awk -F\";\" '{if ($0 ~ /WHISKIES/) {myprices += $19}} END{print myprices}'\n"
   ]
  },
  {
   "cell_type": "code",
   "execution_count": 14,
   "id": "1cda0fd1-3e65-4ca1-85b5-06404db08c3d",
   "metadata": {},
   "outputs": [
    {
     "name": "stdout",
     "output_type": "stream",
     "text": [
      "Total cost of purchases from CEDAR RAPIDS\n",
      "1.7924e+07\n"
     ]
    }
   ],
   "source": [
    "%%bash\n",
    "# question 1b\n",
    "echo \"Total cost of purchases from CEDAR RAPIDS\"\n",
    "# searching for whiskies in the whole line and adding state bottle price to myprices if the line contains that\n",
    "# repeat for each line\n",
    "# finally print the total cost of purchases with cedar rapids in the line, represented by myprices\n",
    "cat /anvil/projects/tdm/data/iowa_liquor_sales/iowa_liquor_sales_cleaner.txt | awk -F\";\" '{if ($0 ~ /CEDAR RAPIDS/) {myprices += $19}} END{print myprices}'\n"
   ]
  },
  {
   "cell_type": "markdown",
   "id": "b456e57c-4a12-464b-999a-ef2df5af80c1",
   "metadata": {},
   "source": [
    "The total cost of purchases with `WHISKIES` in the title is 85,991,100 dollars and the total cost of purchases from `CEDAR RAPIDS` is 17,924,000 dollars"
   ]
  },
  {
   "cell_type": "markdown",
   "id": "fc601975-35ed-4680-a4e1-0273ee3cc047",
   "metadata": {},
   "source": [
    "## Question 2\n",
    "A. What `Store Name` had the largest number of purchases (not the largest total cost, but the largest number of purchases; please consider each line to be 1 purchase)\n",
    "\n",
    "B. Using the `Store Name` identified Question 2A, what was the total cost of all purchases from this `Store Name`?"
   ]
  },
  {
   "cell_type": "code",
   "execution_count": 21,
   "id": "a16336a1-1ef0-41e8-bc7c-49387db27497",
   "metadata": {},
   "outputs": [
    {
     "name": "stdout",
     "output_type": "stream",
     "text": [
      " 223447 HY-VEE #3 / BDI / DES MOINES\n"
     ]
    }
   ],
   "source": [
    "%%bash\n",
    "# question 2a\n",
    "# extract ONLY the field with the store names\n",
    "# sort the resulting data so that the same store names are next to each other\n",
    "# then use uniq -c to see how many values of each store name there are\n",
    "# and sort this data using sort -n (to sort the data numerically)\n",
    "# and finally take the tail of the results\n",
    "cat /anvil/projects/tdm/data/iowa_liquor_sales/iowa_liquor_sales_cleaner.txt | cut -d\";\" -f4 | sort | uniq -c | sort -n | tail -n1"
   ]
  },
  {
   "cell_type": "code",
   "execution_count": 5,
   "id": "a7995685-c735-4784-9519-45fcb38c1a91",
   "metadata": {},
   "outputs": [
    {
     "name": "stdout",
     "output_type": "stream",
     "text": [
      "2.88549e+06\n"
     ]
    }
   ],
   "source": [
    "%%bash\n",
    "# question 2b\n",
    "# pipe the output from cat to awk\n",
    "# ; is the delimeter\n",
    "# if field 4, the store name, contains \"HY-VEE #3 / BDI / DES MOINES\", then pull field 19, the state bottle cost, and sum the cost of all purchases from this store\n",
    "# had to escape the forward slashes with backward slashes so awk didn't think the pattern to match ended\n",
    "cat /anvil/projects/tdm/data/iowa_liquor_sales/iowa_liquor_sales_cleaner.txt | awk -F\";\" '{if ($4 ~ /HY-VEE #3 \\/ BDI \\/ DES MOINES/) {myprices += $19}} END{print myprices}'"
   ]
  },
  {
   "cell_type": "markdown",
   "id": "14dc22d4-ddc3-41cc-a91a-cb0025bc0c80",
   "metadata": {},
   "source": [
    "The `STORE NAME` that had the largest numbers of purchases was \"HY-VEE #3 / BDI / DES MOINES.\" The total cost of all purchases from this store was 2,885,490 dollars."
   ]
  },
  {
   "cell_type": "markdown",
   "id": "8e586edd-ff26-4ce2-8f6b-2424b26f2929",
   "metadata": {},
   "source": [
    "## Question 3\n",
    "A. Please compute the total volume (in liters) of all purchases sold in the file `iowa_liquor_sales_cleaner.txt`\n",
    "\n",
    "B. Please compute the total volume (in liters) of `VODKA 80 PROOF` sold in the file `iowa_liquor_sales_cleaner.txt`"
   ]
  },
  {
   "cell_type": "code",
   "execution_count": 10,
   "id": "bbe0f40d-9655-4653-9ca8-886bdb61cb91",
   "metadata": {},
   "outputs": [
    {
     "name": "stdout",
     "output_type": "stream",
     "text": [
      "2.47828e+08\n"
     ]
    }
   ],
   "source": [
    "%%bash\n",
    "# Question 3a\n",
    "# piping the ouput of cat to awk\n",
    "# adding the value in field 23 to myvolumes for each line and printing the final sum\n",
    "# field 23 = volume sold (liters)\n",
    "cat /anvil/projects/tdm/data/iowa_liquor_sales/iowa_liquor_sales_cleaner.txt | awk -F\";\" '{myvolumes += $23} END{print myvolumes}'"
   ]
  },
  {
   "cell_type": "code",
   "execution_count": 11,
   "id": "a03d291b-0093-4b3c-ad9b-f91675f173b7",
   "metadata": {},
   "outputs": [
    {
     "name": "stdout",
     "output_type": "stream",
     "text": [
      "1.78615e+07\n"
     ]
    }
   ],
   "source": [
    "%%bash\n",
    "# Question 3b\n",
    "# piping the output of cat to awk\n",
    "# adding the value in field 23 to myvolumes only if the line contains `VODKA 80 PROOF`\n",
    "# field 23 = volume sold (liters)\n",
    "# repeat for each line\n",
    "# print the final sum\n",
    "cat /anvil/projects/tdm/data/iowa_liquor_sales/iowa_liquor_sales_cleaner.txt | awk -F\";\" '{if ($0 ~ /VODKA 80 PROOF/) {myvolumes += $23}} END{print myvolumes}'"
   ]
  },
  {
   "cell_type": "markdown",
   "id": "47c6229f-35f7-400c-8366-c442baa5cf47",
   "metadata": {},
   "source": [
    "The total volumne of all purchases sold in the file is 247,828,000 liters. The total volume of `VODKA 80 PROOF` sold in the file is 17,861,500 liters."
   ]
  },
  {
   "cell_type": "markdown",
   "id": "da22f29c-d245-4d2b-9fc1-ca14cb6087d9",
   "metadata": {},
   "source": [
    "## Question 4\n",
    "A. When looking at which location has the largest numbers of purchases, if we use the address (instead of the store name), we should include the `Address`, `City`, and `Zip Code`. Using these three variables (together), what location has the largest number of purchases?\n",
    "\n",
    "B. Does your answer to Question 4A agree with your answer to Question 2A? How do you know? (Please explain why, and/or use some analysis to justify your answer.)"
   ]
  },
  {
   "cell_type": "code",
   "execution_count": 15,
   "id": "8cffc767-d1c8-4d64-b7dc-f0d2ee8a80d1",
   "metadata": {},
   "outputs": [
    {
     "name": "stdout",
     "output_type": "stream",
     "text": [
      " 223447 3221 SE 14TH ST;DES MOINES;50320\n",
      " 223447 3221 SE 14TH ST DES MOINES 50320\n"
     ]
    }
   ],
   "source": [
    "%%bash\n",
    "# question 4a\n",
    "# pipe the output of cat to cut\n",
    "# extract the address, city, and zip code fields\n",
    "# sort the resulting data so that the same store names are next to each other\n",
    "# then use uniq -c to see how many values of each store name there are\n",
    "# and sort this data using sort -n (to sort the data numerically)\n",
    "# and finally take the tail of the results\n",
    "cat /anvil/projects/tdm/data/iowa_liquor_sales/iowa_liquor_sales_cleaner.txt | cut -d\";\" -f5,6,7 | sort | uniq -c | sort -n | tail -n1\n",
    "\n",
    "# alternate awk method\n",
    "cat /anvil/projects/tdm/data/iowa_liquor_sales/iowa_liquor_sales_cleaner.txt | awk -F\";\" '{print $5, $6, $7}' | sort | uniq -c | sort -n | tail -n1"
   ]
  },
  {
   "cell_type": "markdown",
   "id": "0d552245-b4d6-474a-9cc9-fa7b8e674d55",
   "metadata": {},
   "source": [
    "3221 SE 14th St, Des Moines, 50320 has the largest number of purchases. This location occurs 223,447 times in our datasaet, meaning that there were 223,447 purchases at this location. The amount of purchases at this location agrees with the amount of purchases at the `STORE NAME` that had the largest number of purchases, which was 223,447  purchases at HY-VEE #3 / BDI / DES MOINES. The reason these 2 numbers agree is because each store name only has one location. So the store with the largest number of purchases is the same as the location with the largest number of purchases."
   ]
  },
  {
   "cell_type": "markdown",
   "id": "88c9cdac-3e92-498f-83fa-e089bfc44ac8",
   "metadata": {},
   "source": [
    "## Question 5\n",
    "A. `awk` is powerful, and this liquor dataset is pretty interesting! We haven’t covered everything `awk` (and we won’t). Look at the dataset and ask yourself an interesting question about the data. Use `awk` to solve your problem (or, at least, get you closer to answering the question). Optionally: You can explore various stackoverflow questions about `awk` and `awk` guides online. Try to incorporate an `awk` function you haven’t used, or a awk trick you haven’t seen. While this last part is not required, it is highly encouraged and can be a fun way to learn something new.\n",
    "\n",
    "Please be sure to put a brief explanation about your work in Question 5 using awk to study something interesting that YOU FOUND in the data in Question 5."
   ]
  },
  {
   "cell_type": "code",
   "execution_count": 5,
   "id": "d370d7c9-06db-42b9-b75f-240481a5c491",
   "metadata": {},
   "outputs": [
    {
     "name": "stdout",
     "output_type": "stream",
     "text": [
      "total volume sold in ml\n",
      "247828\n"
     ]
    }
   ],
   "source": [
    "%%bash\n",
    "# Question 5\n",
    "# calculating the total volume in ml using the liters field\n",
    "# just taking it a step further than question 3a\n",
    "# Question 3a\n",
    "# piping the ouput of cat to awk\n",
    "# adding the value in field 23 to myvolumes for each line and printing the final sum divided by 1000\n",
    "# field 23 = volume sold (liters)\n",
    "echo \"total volume sold in ml\"\n",
    "cat /anvil/projects/tdm/data/iowa_liquor_sales/iowa_liquor_sales_cleaner.txt | awk -F\";\" '{myvolumes += $23} END{print myvolumes/1000}'"
   ]
  },
  {
   "cell_type": "markdown",
   "id": "9fbf00fb-2418-460f-ae94-2a32b0c28952",
   "metadata": {},
   "source": [
    "I calculated the total volume sold in ml using the liters field because `awk` can also perform arithmetic operations! All I had to do was divide my outut in question 3a by 100. The total volume of all purchases sold is 247,828 ml. I looked at [this website](https://www.geeksforgeeks.org/awk-command-unixlinux-examples/) to find new ways I could use `awk`."
   ]
  },
  {
   "cell_type": "markdown",
   "id": "f76442d6-d02e-4f26-b9d6-c3183e1d6929",
   "metadata": {},
   "source": [
    "## Pledge\n",
    "\n",
    "By submitting this work I hereby pledge that this is my own, personal work. I've acknowledged in the designated place at the top of this file all sources that I used to complete said work, including but not limited to: online resources, books, and electronic communications. I've noted all collaboration with fellow students and/or TA's. I did not copy or plagiarize another's work.\n",
    "\n",
    "> As a Boilermaker pursuing academic excellence, I pledge to be honest and true in all that I do. Accountable together – We are Purdue."
   ]
  }
 ],
 "metadata": {
  "kernelspec": {
   "display_name": "seminar",
   "language": "python",
   "name": "seminar"
  },
  "language_info": {
   "codemirror_mode": {
    "name": "ipython",
    "version": 3
   },
   "file_extension": ".py",
   "mimetype": "text/x-python",
   "name": "python",
   "nbconvert_exporter": "python",
   "pygments_lexer": "ipython3",
   "version": "3.11.5"
  }
 },
 "nbformat": 4,
 "nbformat_minor": 5
}
