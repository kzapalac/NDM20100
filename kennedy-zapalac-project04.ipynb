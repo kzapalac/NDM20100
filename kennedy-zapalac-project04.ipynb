{
 "cells": [
  {
   "cell_type": "markdown",
   "id": "be02a957-7133-4d02-818e-fedeb3cecb05",
   "metadata": {},
   "source": [
    "# Project 4 -- Kennedy Zapalac"
   ]
  },
  {
   "cell_type": "markdown",
   "id": "a1228853-dd19-4ab2-89e0-0394d7d72de3",
   "metadata": {},
   "source": [
    "**TA Help:** N/A\n",
    "**Collaboration:** N/A\n",
    "**Website**\n",
    "\n",
    "- [How to print the 5th line for question 2](https://www.geeksforgeeks.org/write-bash-script-print-particular-line-file/)"
   ]
  },
  {
   "cell_type": "markdown",
   "id": "6180e742-8e39-4698-98ff-5b00c8cf8ea0",
   "metadata": {},
   "source": [
    "## Question 1\n",
    "Please use commands `head`, `tr` and `wc` to find out how many words occur in the first 10 lines of the file `/anvil/projects/tdm/data/stackoverflow/unprocessed/2011.csv`"
   ]
  },
  {
   "cell_type": "code",
   "execution_count": 2,
   "id": "3a8b8de2-f283-4243-881b-0e8b4ad4252c",
   "metadata": {},
   "outputs": [
    {
     "name": "stdout",
     "output_type": "stream",
     "text": [
      "Lines in the csv intially:\n",
      "0\n",
      "Words in the first 10 lines split by commas:\n",
      "81\n"
     ]
    }
   ],
   "source": [
    "%%bash\n",
    "# when I run wc, this file looks like it has 0 lines even though it contains data!\n",
    "echo \"Lines in the csv intially:\"\n",
    "cat /anvil/projects/tdm/data/stackoverflow/unprocessed/2011.csv | wc -l\n",
    "# split the columns (indicated with commas) into new lines and count words in the first 10 lines\n",
    "echo \"Words in the first 10 lines split by commas:\"\n",
    "cat /anvil/projects/tdm/data/stackoverflow/unprocessed/2011.csv | tr ',' '\\n' | head -n10 | wc -w"
   ]
  },
  {
   "cell_type": "markdown",
   "id": "b456e57c-4a12-464b-999a-ef2df5af80c1",
   "metadata": {},
   "source": [
    "81 words occur in the first 10 lines of the file once I create new lines at each comma."
   ]
  },
  {
   "cell_type": "markdown",
   "id": "fc601975-35ed-4680-a4e1-0273ee3cc047",
   "metadata": {},
   "source": [
    "## Question 2\n",
    "Let’s turn our attention to a different file. Use `awk` to find out how many columns appear in the fifth row of the file `/anvil/projects/tdm/data/iowa_liquor_sales/iowa_liquor_sales_cleaner.txt`\n",
    "\n",
    "`awk` is a tool for processing rectangular data (spreadsheet). You can specify something for awk to do before processing the data, how you want awk to process every line of data, and then what you want awk to do once after you've processed the data.\n",
    "`awk 'BEGIN{ put-the-preliminary-stuff-here } { put-the-main-stuff-here } END{ put-the-ending-stuff-here }'`\n",
    "The BEGIN and END sections are optional, and often you will only put something in the main section."
   ]
  },
  {
   "cell_type": "code",
   "execution_count": 11,
   "id": "a16336a1-1ef0-41e8-bc7c-49387db27497",
   "metadata": {},
   "outputs": [
    {
     "name": "stdout",
     "output_type": "stream",
     "text": [
      "This is what the 5th line looks like:\n",
      "S07453200005;08/30/2012;4680;AFAL FOOD & LIQUOR / DES MOINES;4121 SE 14TH ST;DES MOINES;50320;POINT (-93.596755 41.5464);77;POLK;1051010;AMERICAN GRAPE BRANDIES;205;E AND J GALLO WINERY;52594;E & J VS BRANDY;24;375;2.93;4.4;3;13.2;1.12;0.3\n",
      "Number of fields in the 5th row:\n",
      "24\n"
     ]
    }
   ],
   "source": [
    "%%bash\n",
    "# grabbing the 5th line to see what it is\n",
    "echo \"This is what the 5th line looks like:\"\n",
    "head /anvil/projects/tdm/data/iowa_liquor_sales/iowa_liquor_sales_cleaner.txt | head -n5 | tail -n1\n",
    "# set the field separator as \";\" and specified that awk should only print the number of fields for the 5th row of the file provided\n",
    "echo \"Number of fields in the 5th row:\"\n",
    "awk -F\";\" '{if(NR==5) print NF}' /anvil/projects/tdm/data/iowa_liquor_sales/iowa_liquor_sales_cleaner.txt"
   ]
  },
  {
   "cell_type": "markdown",
   "id": "14dc22d4-ddc3-41cc-a91a-cb0025bc0c80",
   "metadata": {},
   "source": [
    "There are 24 columns in the 5th row."
   ]
  },
  {
   "cell_type": "markdown",
   "id": "8e586edd-ff26-4ce2-8f6b-2424b26f2929",
   "metadata": {},
   "source": [
    "## Question 3\n",
    "Use UNIX commands to find out what are the 6 highest 'state bottle retail' prices from the file `/anvil/projects/tdm/data/iowa_liquor_sales/iowa_liquor_sales_cleaner.txt` and what are the analogous item descriptions for these 6 items? (Some are repeated, and that is OK.)"
   ]
  },
  {
   "cell_type": "code",
   "execution_count": 19,
   "id": "bbe0f40d-9655-4653-9ca8-886bdb61cb91",
   "metadata": {},
   "outputs": [
    {
     "name": "stdout",
     "output_type": "stream",
     "text": [
      "27654,GLENGOYNE SINGLE MALT SCOTCH 50YR DECANTER\n",
      "11520,CEDAR RIDGE RESERVE BOURBON PRIVATE CASK DNO\n",
      "9702,CEDAR RIDGE RYE WHISKEY - WHOLE CASK BUY\n",
      "9702,CEDAR RIDGE RYE WHISKEY - WHOLE CASK BUY\n",
      "9150,CEDAR RIDGE MALTED RYE BARREL URBANDALE\n",
      "9150,CEDAR RIDGE MALTED RYE BARREL MARION\n"
     ]
    }
   ],
   "source": [
    "%%bash\n",
    "# prints the state bottle retail price and item description fields, sorts by price in descending order, and returns the 6 most expensive items\n",
    "cat /anvil/projects/tdm/data/iowa_liquor_sales/iowa_liquor_sales_cleaner.txt | awk -F';' '{print $20\",\"$16}' | sort -nr | head -n6"
   ]
  },
  {
   "cell_type": "markdown",
   "id": "47c6229f-35f7-400c-8366-c442baa5cf47",
   "metadata": {},
   "source": [
    "The output above displays the state bottle retail prices and the item descriptions of the most expensive items from the Iowa Liquor Sales file"
   ]
  },
  {
   "cell_type": "markdown",
   "id": "da22f29c-d245-4d2b-9fc1-ca14cb6087d9",
   "metadata": {},
   "source": [
    "## Question 4\n",
    "Please find out how many times each bottle volume appears in the file"
   ]
  },
  {
   "cell_type": "code",
   "execution_count": 24,
   "id": "8cffc767-d1c8-4d64-b7dc-f0d2ee8a80d1",
   "metadata": {},
   "outputs": [
    {
     "name": "stdout",
     "output_type": "stream",
     "text": [
      " 159490 \n",
      "  56480 ADAIR\n",
      "  22679 ADAMS\n",
      " 109023 ALLAMAKEE\n",
      "  93731 APPANOOSE\n",
      "  29683 AUDUBON\n",
      " 132496 BENTON\n",
      "1502321 BLACK HAWK\n",
      " 193428 BOONE\n",
      " 207767 BREMER\n",
      " 149543 BUCHANAN\n",
      " 224961 BUENA VISTA\n",
      "  47087 BUTLER\n",
      "  41711 CALHOUN\n",
      " 196268 CARROLL\n",
      " 121166 CASS\n",
      " 106261 CEDAR\n",
      " 587207 CERRO GORDO\n",
      "  92610 CHEROKEE\n",
      "  42915 CHICKASAW\n",
      "  67717 CLARKE\n",
      " 186328 CLAY\n",
      " 117847 CLAYTON\n",
      " 379655 CLINTON\n",
      " 107572 CRAWFORD\n",
      "      1 County\n",
      " 336164 DALLAS\n",
      "  19472 DAVIS\n",
      "  24001 DECATUR\n",
      "  85548 DELAWARE\n",
      " 402985 DES MOINES\n",
      " 348179 DICKINSON\n",
      " 771917 DUBUQUE\n",
      "      2 EL PASO\n",
      "  67012 EMMET\n",
      " 117658 FAYETTE\n",
      " 110431 FLOYD\n",
      "  70307 FRANKLIN\n",
      "   6767 FREMONT\n",
      "  59923 GREENE\n",
      "  48922 GRUNDY\n",
      "  54872 GUTHRIE\n",
      " 123848 HAMILTON\n",
      "  42913 HANCOCK\n",
      " 166711 HARDIN\n",
      " 108804 HARRISON\n",
      " 105464 HENRY\n",
      "  76466 HOWARD\n",
      "  65289 HUMBOLDT\n",
      "  63432 IDA\n",
      " 162752 IOWA\n",
      " 143149 JACKSON\n",
      " 246942 JASPER\n",
      "  94012 JEFFERSON\n",
      "1339423 JOHNSON\n",
      " 174528 JONES\n",
      "  48855 KEOKUK\n",
      " 153119 KOSSUTH\n",
      " 315931 LEE\n",
      "2246222 LINN\n",
      "  47671 LOUISA\n",
      "  60064 LUCAS\n",
      " 110080 LYON\n",
      "  96061 MADISON\n",
      " 139638 MAHASKA\n",
      " 253500 MARION\n",
      " 314308 MARSHALL\n",
      "  77177 MILLS\n",
      "  80963 MITCHELL\n",
      " 120378 MONONA\n",
      "  37020 MONROE\n",
      "  72187 MONTGOMERY\n",
      " 394964 MUSCATINE\n",
      " 177988 O'BRIEN\n",
      "  37768 OSCEOLA\n",
      " 135199 PAGE\n",
      " 112900 PALO ALTO\n",
      " 156028 PLYMOUTH\n",
      "  49601 POCAHONTAS\n",
      "4995804 POLK\n",
      " 885334 POTTAWATTAMIE\n",
      " 214344 POWESHIEK\n",
      "  17951 RINGGOLD\n",
      "  87608 SAC\n",
      "1625367 SCOTT\n",
      "  71729 SHELBY\n",
      " 157036 SIOUX\n",
      " 850504 STORY\n",
      "  91279 TAMA\n",
      "  26435 TAYLOR\n",
      " 114041 UNION\n",
      "  27487 VAN BUREN\n",
      " 306387 WAPELLO\n",
      " 251442 WARREN\n",
      " 162467 WASHINGTON\n",
      "  21171 WAYNE\n",
      " 306543 WEBSTER\n",
      "  93033 WINNEBAGO\n",
      " 136150 WINNESHIEK\n",
      " 840786 WOODBURY\n",
      "  38348 WORTH\n",
      "  77436 WRIGHT\n"
     ]
    }
   ],
   "source": [
    "%%bash\n",
    "# grabbing the bottle volume field, sorting by the bottle volume (must specify it's a number rather than a string) which must be done before using uniq because uniq counts the duplicate values that are right next to each other, and counting how many times each bottle volume appears in the file\n",
    "cat /anvil/projects/tdm/data/iowa_liquor_sales/iowa_liquor_sales_cleaner.txt | cut -d';' -f10 | sort -n | uniq -c"
   ]
  },
  {
   "cell_type": "markdown",
   "id": "f76442d6-d02e-4f26-b9d6-c3183e1d6929",
   "metadata": {},
   "source": [
    "## Pledge\n",
    "\n",
    "By submitting this work I hereby pledge that this is my own, personal work. I've acknowledged in the designated place at the top of this file all sources that I used to complete said work, including but not limited to: online resources, books, and electronic communications. I've noted all collaboration with fellow students and/or TA's. I did not copy or plagiarize another's work.\n",
    "\n",
    "> As a Boilermaker pursuing academic excellence, I pledge to be honest and true in all that I do. Accountable together – We are Purdue."
   ]
  }
 ],
 "metadata": {
  "kernelspec": {
   "display_name": "seminar",
   "language": "python",
   "name": "seminar"
  },
  "language_info": {
   "codemirror_mode": {
    "name": "ipython",
    "version": 3
   },
   "file_extension": ".py",
   "mimetype": "text/x-python",
   "name": "python",
   "nbconvert_exporter": "python",
   "pygments_lexer": "ipython3",
   "version": "3.11.5"
  }
 },
 "nbformat": 4,
 "nbformat_minor": 5
}
