{
 "cells": [
  {
   "cell_type": "markdown",
   "id": "be02a957-7133-4d02-818e-fedeb3cecb05",
   "metadata": {},
   "source": [
    "# Project 7 -- Kennedy Zapalac"
   ]
  },
  {
   "cell_type": "markdown",
   "id": "a1228853-dd19-4ab2-89e0-0394d7d72de3",
   "metadata": {},
   "source": [
    "**TA Help:** N/A\n",
    "    \n",
    "**Collaboration:** N/A"
   ]
  },
  {
   "cell_type": "markdown",
   "id": "6180e742-8e39-4698-98ff-5b00c8cf8ea0",
   "metadata": {},
   "source": [
    "## Question 1\n",
    "Consider the dataset `iowa_liquor_sales_cleaner.txt`.\n",
    "\n",
    "In Project 05’s Question 2, you were asked to find out which Store Name had the most purchases, and once you obtained the store name, you calculated the total cost from that store. Now let’s use `awk associative arrays` to list each of the top 10 stores' total cost of purchases (per store).\n",
    "\n",
    "(In Project 5 we used column 19, which was the `State Bottle Cost`. This time, instead, let’s focus on column 22.)\n",
    "\n",
    "For this question, please use column 22, which is the `Sale (Dollars)`.\n",
    "\n",
    "a. Find the total cost of the purchases for each store. For the output, show only the top 10 stores, in terms of the total cost of the purchases. List each of these top 10 stores and the total cost of the purchases of each."
   ]
  },
  {
   "cell_type": "code",
   "execution_count": 6,
   "id": "3a8b8de2-f283-4243-881b-0e8b4ad4252c",
   "metadata": {},
   "outputs": [
    {
     "name": "stdout",
     "output_type": "stream",
     "text": [
      "1.23313e+08 HY-VEE #3 / BDI / DES MOINES\n",
      "1.08328e+08 CENTRAL CITY 2\n",
      "4.87686e+07 HY-VEE WINE AND SPIRITS / IOWA CITY\n",
      "4.13889e+07 SAM'S CLUB 8162 / CEDAR RAPIDS\n",
      "3.96246e+07 SAM'S CLUB 6344 / WINDSOR HEIGHTS\n",
      "3.42666e+07 BENZ DISTRIBUTING\n",
      "3.38266e+07 WILKIE LIQUORS\n",
      "3.09229e+07 LOT-A-SPIRITS\n",
      "2.79315e+07 SAM'S CLUB 8238 / DAVENPORT\n",
      "2.68169e+07 CENTRAL CITY LIQUOR, INC.\n"
     ]
    }
   ],
   "source": [
    "%%bash\n",
    "# for each of the stores (names stored in field 4), sum the total cost of purchases, then print the total cost of purchases for each store, sort (g\n",
    "cat /anvil/projects/tdm/data/iowa_liquor_sales/iowa_liquor_sales_cleaner.txt | awk -F\";\" '{mytotal[$4] += $22} END{for(i in mytotal) {print(mytotal[i], i)}}' | sort -gr | head -n10"
   ]
  },
  {
   "cell_type": "markdown",
   "id": "b456e57c-4a12-464b-999a-ef2df5af80c1",
   "metadata": {},
   "source": [
    "HY-VEE \\#3 is the top store with the \\$123,313,000 in purchases"
   ]
  },
  {
   "cell_type": "markdown",
   "id": "fc601975-35ed-4680-a4e1-0273ee3cc047",
   "metadata": {},
   "source": [
    "## Question 2\n",
    "Let’s look at the dataset `escaped2020sample.txt`.\n",
    "\n",
    "a. This dataset contains the CITY(column 9), STATE (column 10), and TRANSACTION_AMT (column 15) for each donation. Please calculate the total transaction amounts for each city/state pair from this dataset (for instance, West Lafayette, IN). For your answer, list the top 10 city/state pairs with the largest total transaction amounts. Please use awk associative arrays for this question."
   ]
  },
  {
   "cell_type": "code",
   "execution_count": 3,
   "id": "a16336a1-1ef0-41e8-bc7c-49387db27497",
   "metadata": {},
   "outputs": [
    {
     "name": "stdout",
     "output_type": "stream",
     "text": [
      "331576505 NEW YORK,NY\n",
      "38701698 SAN FRANCISCO,CA\n",
      "37152718 WASHINGTON,DC\n",
      "14141160 LOS ANGELES,CA\n",
      "12463126 HOUSTON,TX\n",
      "11642460 DALLAS,TX\n",
      "11032607 CHICAGO,IL\n",
      "8287423 BOSTON,MA\n",
      "7141597 ATLANTA,GA\n",
      "7115650 SEATTLE,WA\n"
     ]
    }
   ],
   "source": [
    "%%bash\n",
    "# substitute the double quotes (\") using sed, s stands for substitute, what I am replacing is after the first \"/\", and what I want to replace it with is after the second \"/\"\n",
    "# sum the total transaction amount for each city, state pair, the print out the 10 city, state pairs with the greatest toal transaction amount\n",
    "cat /anvil/projects/tdm/data/election/escaped2020sample.txt | sed 's/\"//g' | awk -F\"|\" '{mytotal[$9\",\"$10] += $15} END{for(i in mytotal) {print(mytotal[i], i)}}' | sort -nr | head -n10"
   ]
  },
  {
   "cell_type": "markdown",
   "id": "14dc22d4-ddc3-41cc-a91a-cb0025bc0c80",
   "metadata": {},
   "source": [
    "Ney York, NY has the largest total transaction amoutn of \\$331,576,505"
   ]
  },
  {
   "cell_type": "markdown",
   "id": "8e586edd-ff26-4ce2-8f6b-2424b26f2929",
   "metadata": {},
   "source": [
    "## Question 3\n",
    "Now let us take a look at the dataset `1990.csv`.\n",
    "\n",
    "a. You may have noticed that the \"FlightDate\" column (6th column) contains dates formatted as \"1990-01-31\". Please write an awk command to extract the year and month (not the day) from this column and then reformat them as (for instance) \"01/1990\". For your output, print each of the twelve months from 1990, and the number of flights that occur during each of those months."
   ]
  },
  {
   "cell_type": "code",
   "execution_count": 15,
   "id": "bbe0f40d-9655-4653-9ca8-886bdb61cb91",
   "metadata": {},
   "outputs": [
    {
     "name": "stdout",
     "output_type": "stream",
     "text": [
      " 442700 01/1990\n",
      " 396926 02/1990\n",
      " 444320 03/1990\n",
      " 433420 04/1990\n",
      " 447371 05/1990\n",
      " 437395 06/1990\n",
      " 455057 07/1990\n",
      " 457886 08/1990\n",
      " 435638 09/1990\n",
      " 455047 10/1990\n",
      " 428781 11/1990\n",
      " 436352 12/1990\n"
     ]
    }
   ],
   "source": [
    "%%bash\n",
    "# grab the flight data column\n",
    "# then split into 3 fields separated by \"-\", grab the year and month (if year = 1990, but this isn't necessary because all the flights are from 1990 but it conveniently removes the older header)\n",
    "# sort by year and month, then count the number of flight for each year and month pair\n",
    "cat /anvil/projects/tdm/data/flights/1990.csv | awk -F, '{print $6}' | awk -F\"-\" '{if($1 == \"1990\") {print $2\"/\"$1}}' | sort | uniq -c"
   ]
  },
  {
   "cell_type": "markdown",
   "id": "47c6229f-35f7-400c-8366-c442baa5cf47",
   "metadata": {},
   "source": [
    "August had the greatest number of flights in 1990"
   ]
  },
  {
   "cell_type": "markdown",
   "id": "da22f29c-d245-4d2b-9fc1-ca14cb6087d9",
   "metadata": {},
   "source": [
    "## Question 4\n",
    "a. Use awk to create a new dataset from `1990.csv` called `1990_flight_info.csv`. This new file should include the following columns: the flight_month_year(MM/YYYY) just the same as you created in question 3, and also the total number of flights during that month_year. Order the results according to the number of flights in the month_year, from smallest to largest. \n",
    "\n",
    "The header of this file called 1990_flight_info.csv should look like:\n",
    "\n",
    "flight_month_year;total_number_of_flights"
   ]
  },
  {
   "cell_type": "code",
   "execution_count": 4,
   "id": "8cffc767-d1c8-4d64-b7dc-f0d2ee8a80d1",
   "metadata": {},
   "outputs": [],
   "source": [
    "%%bash\n",
    "# same as above, but then remove the leading white space, separate the fields using a colon instead of space, add headers, and output to file\n",
    "cat /anvil/projects/tdm/data/flights/1990.csv | awk -F, '{print $6}' | awk -F\"-\" '{if($1 == \"1990\") {print $2\"/\"$1}}' | sort | uniq -c | sed 's/^\\s*//' | awk -F\" \" 'BEGIN{print \"flight_month_year;total_number_of_flights\"} {print $2\";\"$1}' > 1990_flight_info.csv"
   ]
  },
  {
   "cell_type": "code",
   "execution_count": 8,
   "id": "fabea0e8-1553-4d68-9486-b46bd5d82b5f",
   "metadata": {},
   "outputs": [
    {
     "name": "stdout",
     "output_type": "stream",
     "text": [
      "flight_month_year;total_number_of_flights\n",
      "01/1990;442700\n",
      "02/1990;396926\n",
      "03/1990;444320\n",
      "04/1990;433420\n",
      "05/1990;447371\n",
      "06/1990;437395\n",
      "07/1990;455057\n",
      "08/1990;457886\n",
      "09/1990;435638\n",
      "10/1990;455047\n",
      "11/1990;428781\n",
      "12/1990;436352\n"
     ]
    }
   ],
   "source": [
    "%%bash\n",
    "# check the output of the new file I created\n",
    "cat ~/1990_flight_info.csv"
   ]
  },
  {
   "cell_type": "markdown",
   "id": "f76442d6-d02e-4f26-b9d6-c3183e1d6929",
   "metadata": {},
   "source": [
    "## Pledge\n",
    "\n",
    "By submitting this work I hereby pledge that this is my own, personal work. I've acknowledged in the designated place at the top of this file all sources that I used to complete said work, including but not limited to: online resources, books, and electronic communications. I've noted all collaboration with fellow students and/or TA's. I did not copy or plagiarize another's work.\n",
    "\n",
    "> As a Boilermaker pursuing academic excellence, I pledge to be honest and true in all that I do. Accountable together – We are Purdue."
   ]
  }
 ],
 "metadata": {
  "kernelspec": {
   "display_name": "seminar",
   "language": "python",
   "name": "seminar"
  },
  "language_info": {
   "codemirror_mode": {
    "name": "ipython",
    "version": 3
   },
   "file_extension": ".py",
   "mimetype": "text/x-python",
   "name": "python",
   "nbconvert_exporter": "python",
   "pygments_lexer": "ipython3",
   "version": "3.11.5"
  }
 },
 "nbformat": 4,
 "nbformat_minor": 5
}
