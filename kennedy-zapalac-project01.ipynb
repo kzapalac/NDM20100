{
 "cells": [
  {
   "cell_type": "markdown",
   "id": "be02a957-7133-4d02-818e-fedeb3cecb05",
   "metadata": {},
   "source": [
    "# Project 01 -- Kennedy Zapalac"
   ]
  },
  {
   "cell_type": "markdown",
   "id": "a1228853-dd19-4ab2-89e0-0394d7d72de3",
   "metadata": {},
   "source": [
    "**TA Help:** N/A\n",
    "    \n",
    "**Collaboration:** N/A"
   ]
  },
  {
   "cell_type": "markdown",
   "id": "6180e742-8e39-4698-98ff-5b00c8cf8ea0",
   "metadata": {},
   "source": [
    "## Question 1\n",
    "A. How many cores and how much memory (in GB) does Anvil’s sub-cluster A have? (0.5 pts)\n",
    "\n",
    "B. How many cores and how much memory (in GB) does your personal computer have? (0.5 pts)\n",
    "\n",
    "Relevant information:\n",
    "- Each *cluster* is a collection of nodes. Each *node* is an individual machine, with a processor and memory (often called RAM, or Random Acess Memory). \n",
    "- Information about the core and memory capacity of Anvil \"sub-clusters\" can be found [here](https://www.rcac.purdue.edu/compute/anvil). \n",
    "- Information about the core and memory capacity of my computer is typically found in the \"About this PC\" section of your computer's settings."
   ]
  },
  {
   "cell_type": "markdown",
   "id": "af2e23cb-4ec4-481a-8977-d798b71e2ede",
   "metadata": {},
   "source": [
    "**Answer:**"
   ]
  },
  {
   "cell_type": "code",
   "execution_count": 1,
   "id": "49445606-d363-41b4-b479-e319a9a84c01",
   "metadata": {},
   "outputs": [
    {
     "name": "stdout",
     "output_type": "stream",
     "text": [
      "There are 128000 cores in sub-cluster A.\n",
      "There are 256000 GB of memory available to sub-cluster A.\n"
     ]
    }
   ],
   "source": [
    "# sub-cluster A information\n",
    "nodes = 1000\n",
    "cores_per_node = 128\n",
    "memory_per_node = 256\n",
    "sub_cluster_A_cores = nodes * cores_per_node\n",
    "sub_cluster_A_memory = nodes * memory_per_node # in GB\n",
    "print(f'There are {sub_cluster_A_cores} cores in sub-cluster A.')\n",
    "print(f'There are {sub_cluster_A_memory} GB of memory available to sub-cluster A.')"
   ]
  },
  {
   "cell_type": "markdown",
   "id": "b456e57c-4a12-464b-999a-ef2df5af80c1",
   "metadata": {},
   "source": [
    "A. There are 1,000 nodes within sub-cluster A. Each node has 128 cores and 256 GB of memory. Therefore, there is a total of 128,000 cores and 256,000 GB of memory available to sub-cluster A."
   ]
  },
  {
   "cell_type": "markdown",
   "id": "e6ce1d02-fabf-409e-a069-fed69ff369b1",
   "metadata": {},
   "source": [
    "B. My computer has 12 cores and 16 GB of memory. That's a lot less than is available in just a single node of sub-cluster A."
   ]
  },
  {
   "cell_type": "markdown",
   "id": "fc601975-35ed-4680-a4e1-0273ee3cc047",
   "metadata": {},
   "source": [
    "## Question 2"
   ]
  },
  {
   "cell_type": "markdown",
   "id": "f140d27b-428d-45a8-b5f7-254b88428202",
   "metadata": {},
   "source": [
    "A. Using Python, what is the name of the node on Anvil you are running on?\n",
    "\n",
    "B. Using Bash, what is the name of the node on Anvil you are running on?\n",
    "\n",
    "C. Using R, what is the name of the node on Anvil you are running on?"
   ]
  },
  {
   "cell_type": "markdown",
   "id": "c6c49c58-4df8-46bd-a08d-8afd0edbf05e",
   "metadata": {},
   "source": [
    "**Answer:**"
   ]
  },
  {
   "cell_type": "code",
   "execution_count": 2,
   "id": "a16336a1-1ef0-41e8-bc7c-49387db27497",
   "metadata": {},
   "outputs": [
    {
     "name": "stdout",
     "output_type": "stream",
     "text": [
      "a240.anvil.rcac.purdue.edu\n"
     ]
    }
   ],
   "source": [
    "import socket\n",
    "print(socket.gethostname())"
   ]
  },
  {
   "cell_type": "code",
   "execution_count": 3,
   "id": "2ab310f3-77f7-403a-b012-c888d4d5210e",
   "metadata": {},
   "outputs": [
    {
     "name": "stdout",
     "output_type": "stream",
     "text": [
      "[1] \"a240.anvil.rcac.purdue.edu\"\n"
     ]
    },
    {
     "data": {
      "text/plain": [
       "In addition: Warning message:\n",
       "In (function (package, help, pos = 2, lib.loc = NULL, character.only = FALSE,  :\n",
       "  library ‘/usr/local/lib/R/site-library’ contains no packages\n"
      ]
     },
     "metadata": {},
     "output_type": "display_data"
    }
   ],
   "source": [
    "%%R\n",
    "\n",
    "system(\"hostname\", intern=TRUE)"
   ]
  },
  {
   "cell_type": "code",
   "execution_count": 4,
   "id": "4233ba83-5c92-4b1b-a7ea-5ed2476ba165",
   "metadata": {},
   "outputs": [
    {
     "name": "stdout",
     "output_type": "stream",
     "text": [
      "a240.anvil.rcac.purdue.edu\n"
     ]
    }
   ],
   "source": [
    "%%bash\n",
    "\n",
    "hostname"
   ]
  },
  {
   "cell_type": "markdown",
   "id": "8e586edd-ff26-4ce2-8f6b-2424b26f2929",
   "metadata": {
    "tags": []
   },
   "source": [
    "## Question 3"
   ]
  },
  {
   "cell_type": "markdown",
   "id": "b3febcbf-e874-46c8-baf6-48048b9bb08f",
   "metadata": {},
   "source": [
    "Using line magic to run non-Python code in the seminar kernel"
   ]
  },
  {
   "cell_type": "markdown",
   "id": "cdea37ca-49a6-4268-801e-c39da1a95f25",
   "metadata": {},
   "source": [
    "**Answer:**"
   ]
  },
  {
   "cell_type": "code",
   "execution_count": 5,
   "id": "bbe0f40d-9655-4653-9ca8-886bdb61cb91",
   "metadata": {},
   "outputs": [],
   "source": [
    "import pandas as pd\n",
    "df = pd.read_csv('/anvil/projects/tdm/data/flights/subset/1991.csv')"
   ]
  },
  {
   "cell_type": "code",
   "execution_count": 6,
   "id": "fb5d2672-037b-40d8-a566-7b84a94ec315",
   "metadata": {},
   "outputs": [
    {
     "data": {
      "text/html": [
       "<div>\n",
       "<style scoped>\n",
       "    .dataframe tbody tr th:only-of-type {\n",
       "        vertical-align: middle;\n",
       "    }\n",
       "\n",
       "    .dataframe tbody tr th {\n",
       "        vertical-align: top;\n",
       "    }\n",
       "\n",
       "    .dataframe thead th {\n",
       "        text-align: right;\n",
       "    }\n",
       "</style>\n",
       "<table border=\"1\" class=\"dataframe\">\n",
       "  <thead>\n",
       "    <tr style=\"text-align: right;\">\n",
       "      <th></th>\n",
       "      <th>Year</th>\n",
       "      <th>Month</th>\n",
       "      <th>DayofMonth</th>\n",
       "      <th>DayOfWeek</th>\n",
       "      <th>DepTime</th>\n",
       "      <th>CRSDepTime</th>\n",
       "      <th>ArrTime</th>\n",
       "      <th>CRSArrTime</th>\n",
       "      <th>UniqueCarrier</th>\n",
       "      <th>FlightNum</th>\n",
       "      <th>...</th>\n",
       "      <th>TaxiIn</th>\n",
       "      <th>TaxiOut</th>\n",
       "      <th>Cancelled</th>\n",
       "      <th>CancellationCode</th>\n",
       "      <th>Diverted</th>\n",
       "      <th>CarrierDelay</th>\n",
       "      <th>WeatherDelay</th>\n",
       "      <th>NASDelay</th>\n",
       "      <th>SecurityDelay</th>\n",
       "      <th>LateAircraftDelay</th>\n",
       "    </tr>\n",
       "  </thead>\n",
       "  <tbody>\n",
       "    <tr>\n",
       "      <th>4657380</th>\n",
       "      <td>1991</td>\n",
       "      <td>12</td>\n",
       "      <td>29</td>\n",
       "      <td>7</td>\n",
       "      <td>1631.0</td>\n",
       "      <td>1630</td>\n",
       "      <td>1829.0</td>\n",
       "      <td>1828</td>\n",
       "      <td>UA</td>\n",
       "      <td>1770</td>\n",
       "      <td>...</td>\n",
       "      <td>NaN</td>\n",
       "      <td>NaN</td>\n",
       "      <td>0</td>\n",
       "      <td>NaN</td>\n",
       "      <td>0</td>\n",
       "      <td>NaN</td>\n",
       "      <td>NaN</td>\n",
       "      <td>NaN</td>\n",
       "      <td>NaN</td>\n",
       "      <td>NaN</td>\n",
       "    </tr>\n",
       "    <tr>\n",
       "      <th>4657381</th>\n",
       "      <td>1991</td>\n",
       "      <td>12</td>\n",
       "      <td>30</td>\n",
       "      <td>1</td>\n",
       "      <td>1630.0</td>\n",
       "      <td>1630</td>\n",
       "      <td>1823.0</td>\n",
       "      <td>1828</td>\n",
       "      <td>UA</td>\n",
       "      <td>1770</td>\n",
       "      <td>...</td>\n",
       "      <td>NaN</td>\n",
       "      <td>NaN</td>\n",
       "      <td>0</td>\n",
       "      <td>NaN</td>\n",
       "      <td>0</td>\n",
       "      <td>NaN</td>\n",
       "      <td>NaN</td>\n",
       "      <td>NaN</td>\n",
       "      <td>NaN</td>\n",
       "      <td>NaN</td>\n",
       "    </tr>\n",
       "    <tr>\n",
       "      <th>4657382</th>\n",
       "      <td>1991</td>\n",
       "      <td>12</td>\n",
       "      <td>31</td>\n",
       "      <td>2</td>\n",
       "      <td>1628.0</td>\n",
       "      <td>1630</td>\n",
       "      <td>1820.0</td>\n",
       "      <td>1828</td>\n",
       "      <td>UA</td>\n",
       "      <td>1770</td>\n",
       "      <td>...</td>\n",
       "      <td>NaN</td>\n",
       "      <td>NaN</td>\n",
       "      <td>0</td>\n",
       "      <td>NaN</td>\n",
       "      <td>0</td>\n",
       "      <td>NaN</td>\n",
       "      <td>NaN</td>\n",
       "      <td>NaN</td>\n",
       "      <td>NaN</td>\n",
       "      <td>NaN</td>\n",
       "    </tr>\n",
       "    <tr>\n",
       "      <th>4657383</th>\n",
       "      <td>1991</td>\n",
       "      <td>12</td>\n",
       "      <td>1</td>\n",
       "      <td>7</td>\n",
       "      <td>1922.0</td>\n",
       "      <td>1922</td>\n",
       "      <td>2040.0</td>\n",
       "      <td>2045</td>\n",
       "      <td>UA</td>\n",
       "      <td>1774</td>\n",
       "      <td>...</td>\n",
       "      <td>NaN</td>\n",
       "      <td>NaN</td>\n",
       "      <td>0</td>\n",
       "      <td>NaN</td>\n",
       "      <td>0</td>\n",
       "      <td>NaN</td>\n",
       "      <td>NaN</td>\n",
       "      <td>NaN</td>\n",
       "      <td>NaN</td>\n",
       "      <td>NaN</td>\n",
       "    </tr>\n",
       "    <tr>\n",
       "      <th>4657384</th>\n",
       "      <td>1991</td>\n",
       "      <td>12</td>\n",
       "      <td>2</td>\n",
       "      <td>1</td>\n",
       "      <td>2005.0</td>\n",
       "      <td>1922</td>\n",
       "      <td>2119.0</td>\n",
       "      <td>2045</td>\n",
       "      <td>UA</td>\n",
       "      <td>1774</td>\n",
       "      <td>...</td>\n",
       "      <td>NaN</td>\n",
       "      <td>NaN</td>\n",
       "      <td>0</td>\n",
       "      <td>NaN</td>\n",
       "      <td>0</td>\n",
       "      <td>NaN</td>\n",
       "      <td>NaN</td>\n",
       "      <td>NaN</td>\n",
       "      <td>NaN</td>\n",
       "      <td>NaN</td>\n",
       "    </tr>\n",
       "  </tbody>\n",
       "</table>\n",
       "<p>5 rows × 29 columns</p>\n",
       "</div>"
      ],
      "text/plain": [
       "         Year  Month  DayofMonth  DayOfWeek  DepTime  CRSDepTime  ArrTime  \\\n",
       "4657380  1991     12          29          7   1631.0        1630   1829.0   \n",
       "4657381  1991     12          30          1   1630.0        1630   1823.0   \n",
       "4657382  1991     12          31          2   1628.0        1630   1820.0   \n",
       "4657383  1991     12           1          7   1922.0        1922   2040.0   \n",
       "4657384  1991     12           2          1   2005.0        1922   2119.0   \n",
       "\n",
       "         CRSArrTime UniqueCarrier  FlightNum  ...  TaxiIn  TaxiOut  Cancelled  \\\n",
       "4657380        1828            UA       1770  ...     NaN      NaN          0   \n",
       "4657381        1828            UA       1770  ...     NaN      NaN          0   \n",
       "4657382        1828            UA       1770  ...     NaN      NaN          0   \n",
       "4657383        2045            UA       1774  ...     NaN      NaN          0   \n",
       "4657384        2045            UA       1774  ...     NaN      NaN          0   \n",
       "\n",
       "         CancellationCode  Diverted  CarrierDelay WeatherDelay NASDelay  \\\n",
       "4657380               NaN         0           NaN          NaN      NaN   \n",
       "4657381               NaN         0           NaN          NaN      NaN   \n",
       "4657382               NaN         0           NaN          NaN      NaN   \n",
       "4657383               NaN         0           NaN          NaN      NaN   \n",
       "4657384               NaN         0           NaN          NaN      NaN   \n",
       "\n",
       "         SecurityDelay  LateAircraftDelay  \n",
       "4657380            NaN                NaN  \n",
       "4657381            NaN                NaN  \n",
       "4657382            NaN                NaN  \n",
       "4657383            NaN                NaN  \n",
       "4657384            NaN                NaN  \n",
       "\n",
       "[5 rows x 29 columns]"
      ]
     },
     "execution_count": 6,
     "metadata": {},
     "output_type": "execute_result"
    }
   ],
   "source": [
    "df[df[\"Month\"]==12].head() # get all flights in December"
   ]
  },
  {
   "cell_type": "code",
   "execution_count": 7,
   "id": "6056da49-9603-49ad-b184-72b327b133a7",
   "metadata": {},
   "outputs": [],
   "source": [
    "%sql sqlite:////anvil/projects/tdm/data/movies_and_tv/imdb.db"
   ]
  },
  {
   "cell_type": "code",
   "execution_count": 8,
   "id": "079a086e-60da-480e-9c40-4ff8a90c8fc3",
   "metadata": {},
   "outputs": [
    {
     "name": "stdout",
     "output_type": "stream",
     "text": [
      " * sqlite:////anvil/projects/tdm/data/movies_and_tv/imdb.db\n",
      "Done.\n"
     ]
    },
    {
     "data": {
      "text/html": [
       "<table>\n",
       "    <tr>\n",
       "        <th>episode_title_id</th>\n",
       "        <th>show_title_id</th>\n",
       "        <th>season_number</th>\n",
       "        <th>episode_number</th>\n",
       "        <th>title_id</th>\n",
       "        <th>type</th>\n",
       "        <th>primary_title</th>\n",
       "        <th>original_title</th>\n",
       "        <th>is_adult</th>\n",
       "        <th>premiered</th>\n",
       "        <th>ended</th>\n",
       "        <th>runtime_minutes</th>\n",
       "        <th>genres</th>\n",
       "    </tr>\n",
       "    <tr>\n",
       "        <td>tt0506978</td>\n",
       "        <td>tt0285332</td>\n",
       "        <td>1</td>\n",
       "        <td>22</td>\n",
       "        <td>tt0506978</td>\n",
       "        <td>tvEpisode</td>\n",
       "        <td>Finale</td>\n",
       "        <td>Finale</td>\n",
       "        <td>0</td>\n",
       "        <td>2002</td>\n",
       "        <td>None</td>\n",
       "        <td>None</td>\n",
       "        <td>Drama,Thriller</td>\n",
       "    </tr>\n",
       "    <tr>\n",
       "        <td>tt0519805</td>\n",
       "        <td>tt0210405</td>\n",
       "        <td>3</td>\n",
       "        <td>10</td>\n",
       "        <td>tt0519805</td>\n",
       "        <td>tvEpisode</td>\n",
       "        <td>Finale</td>\n",
       "        <td>Finale</td>\n",
       "        <td>0</td>\n",
       "        <td>1993</td>\n",
       "        <td>None</td>\n",
       "        <td>None</td>\n",
       "        <td>Drama</td>\n",
       "    </tr>\n",
       "    <tr>\n",
       "        <td>tt0566236</td>\n",
       "        <td>tt0169438</td>\n",
       "        <td>8</td>\n",
       "        <td>31</td>\n",
       "        <td>tt0566236</td>\n",
       "        <td>tvEpisode</td>\n",
       "        <td>Finale</td>\n",
       "        <td>Finale</td>\n",
       "        <td>0</td>\n",
       "        <td>2005</td>\n",
       "        <td>None</td>\n",
       "        <td>None</td>\n",
       "        <td>Drama,Sport</td>\n",
       "    </tr>\n",
       "    <tr>\n",
       "        <td>tt0566422</td>\n",
       "        <td>tt0111945</td>\n",
       "        <td>9</td>\n",
       "        <td>26</td>\n",
       "        <td>tt0566422</td>\n",
       "        <td>tvEpisode</td>\n",
       "        <td>Finale</td>\n",
       "        <td>Finale</td>\n",
       "        <td>0</td>\n",
       "        <td>2004</td>\n",
       "        <td>None</td>\n",
       "        <td>None</td>\n",
       "        <td>Comedy,Drama</td>\n",
       "    </tr>\n",
       "    <tr>\n",
       "        <td>tt0581864</td>\n",
       "        <td>tt0044263</td>\n",
       "        <td>2</td>\n",
       "        <td>1</td>\n",
       "        <td>tt0581864</td>\n",
       "        <td>tvEpisode</td>\n",
       "        <td>Finale</td>\n",
       "        <td>Finale</td>\n",
       "        <td>0</td>\n",
       "        <td>1953</td>\n",
       "        <td>None</td>\n",
       "        <td>30</td>\n",
       "        <td>Comedy,Crime,Drama</td>\n",
       "    </tr>\n",
       "</table>"
      ],
      "text/plain": [
       "[('tt0506978', 'tt0285332', 1, 22, 'tt0506978', 'tvEpisode', 'Finale', 'Finale', 0, 2002, None, None, 'Drama,Thriller'),\n",
       " ('tt0519805', 'tt0210405', 3, 10, 'tt0519805', 'tvEpisode', 'Finale', 'Finale', 0, 1993, None, None, 'Drama'),\n",
       " ('tt0566236', 'tt0169438', 8, 31, 'tt0566236', 'tvEpisode', 'Finale', 'Finale', 0, 2005, None, None, 'Drama,Sport'),\n",
       " ('tt0566422', 'tt0111945', 9, 26, 'tt0566422', 'tvEpisode', 'Finale', 'Finale', 0, 2004, None, None, 'Comedy,Drama'),\n",
       " ('tt0581864', 'tt0044263', 2, 1, 'tt0581864', 'tvEpisode', 'Finale', 'Finale', 0, 1953, None, 30, 'Comedy,Crime,Drama')]"
      ]
     },
     "execution_count": 8,
     "metadata": {},
     "output_type": "execute_result"
    }
   ],
   "source": [
    "%%sql\n",
    "\n",
    "-- get all episodes called \"Finale\"\n",
    "SELECT *\n",
    "FROM episodes AS e\n",
    "INNER JOIN titles AS t\n",
    "ON t.title_id = e.episode_title_id\n",
    "WHERE t.primary_title = 'Finale'\n",
    "LIMIT 5;"
   ]
  },
  {
   "cell_type": "code",
   "execution_count": 9,
   "id": "d691b677-c261-4eb0-b89d-02c99aed5ff6",
   "metadata": {},
   "outputs": [
    {
     "name": "stdout",
     "output_type": "stream",
     "text": [
      "Arthur Morgan\n",
      "John Marston\n"
     ]
    }
   ],
   "source": [
    "%%bash\n",
    "\n",
    "names=\"John Doe;Bill Withers;Arthur Morgan;Mary Jane;Rick Ross;John Marston\"\n",
    "echo $names | cut -d ';' -f 3\n",
    "echo $names | cut -d ';' -f 6"
   ]
  },
  {
   "cell_type": "markdown",
   "id": "da22f29c-d245-4d2b-9fc1-ca14cb6087d9",
   "metadata": {},
   "source": [
    "## Question 4"
   ]
  },
  {
   "cell_type": "markdown",
   "id": "e58f00a8-5b71-4e11-82a1-5c62360a2b81",
   "metadata": {},
   "source": [
    "A. How many code cells are there in the default template? (0.5 pts)\n",
    "\n",
    "B. How many markdown cells are there in the default template? (0.5 pts)"
   ]
  },
  {
   "cell_type": "markdown",
   "id": "0d552245-b4d6-474a-9cc9-fa7b8e674d55",
   "metadata": {},
   "source": [
    "**Answer:** There are 5 code cells and 13 markdown cells in the default template."
   ]
  },
  {
   "cell_type": "markdown",
   "id": "88c9cdac-3e92-498f-83fa-e089bfc44ac8",
   "metadata": {},
   "source": [
    "## Question 5"
   ]
  },
  {
   "cell_type": "markdown",
   "id": "a29b2662-e2a9-4496-b559-40c4a1da8fbd",
   "metadata": {},
   "source": [
    "A. Create an unordered list of at least 3 of your favorite interests. Italicize at least one of these. (0.5 pts)\n",
    "\n",
    "B. Create an ordered list of at least 3 of your favorite interests. Embolden at least one of these, and make at least one other item formatted like code. (0.5 pts)\n",
    "\n",
    "Here is a [markdown cheatsheet](https://www.markdownguide.org/cheat-sheet/) to assist with this question."
   ]
  },
  {
   "cell_type": "markdown",
   "id": "9fbf00fb-2418-460f-ae94-2a32b0c28952",
   "metadata": {},
   "source": [
    "**Answer:**\n",
    "\n",
    "My interests:\n",
    "- baking\n",
    "- *running*\n",
    "- painting\n",
    "- hiking\n",
    "\n",
    "My interests, ordered from most favorite to least favorite:\n",
    "1. **running**\n",
    "2. hiking\n",
    "3. baking\n",
    "4. `painting`"
   ]
  },
  {
   "cell_type": "markdown",
   "id": "1843e8ff-58c2-4771-87d6-d6222627f115",
   "metadata": {},
   "source": [
    "## Question 6"
   ]
  },
  {
   "cell_type": "markdown",
   "id": "714e4e31-4893-4bc4-a4c6-dc1f43418e07",
   "metadata": {},
   "source": [
    "A. Write your own LinkedIn \"About\" section using Markdown that includes a header, body text that you would be comfortable adding to your LinkedIn account, and at least one link using Markdown syntax.\n",
    "\n",
    "Your answer must include:\n",
    "- A header for this section (your choice of size) that says \"About\".\n",
    "- The body text of your personal \"About\" section that you would feel comfortable uploading to LinkedIn.\n",
    "- In the body text of your \"About\" section, for the sake of learning markdown, include at least 1 link using Markdown’s link syntax.\n",
    "\n",
    "**Answer:**"
   ]
  },
  {
   "cell_type": "markdown",
   "id": "5cbd7e22-4553-4d07-b13a-f877836a555b",
   "metadata": {},
   "source": [
    "### About\n",
    "I am currently a fourth-year student at UT majoring in Psychology, minoring in Business, and working towards a Certificate in Applied Statistical Modeling. While deepening my understanding of people through my coursework, I have also developed the skills to discover insights from data, interpret research articles, and to communicate research findings in an accessible manner. I have discovered a passion for solving problems with data-driven solutions, and I have had the opportunity to exercise my problem-solving skills while collaborating on research. My greatest hope is that I can use the knowledge I have gained during my undergraduate studies to positively impact the lives of others. I am looking for professional opportunities that align with my skillset and passion for data science and that will support my ongoing learning. If you're interested in connecting, please [contact me](mailto:kzapalac@utexas.edu)!"
   ]
  },
  {
   "cell_type": "markdown",
   "id": "1ea26208-0477-4a6d-b42b-edeac3215aee",
   "metadata": {},
   "source": [
    "## Question 7"
   ]
  },
  {
   "cell_type": "markdown",
   "id": "69fe02cd-9102-4819-8ad6-36617d0f1794",
   "metadata": {},
   "source": [
    "A. Create a function in Python to print the median, mean, and standard deviation of the DepDelay column in our dataset, along with the shape of the /anvil/projects/tdm/data/flights/subset/1991.csv dataset overall. (1 pt)\n",
    "\n",
    "B. Create an R function to print the median, mean, and standard deviation of the DepDelay column in our dataset, along with the shape of the /anvil/projects/tdm/data/flights/subset/1991.csv dataset overall. (1 pt)\n",
    "\n",
    "**Answer:**"
   ]
  },
  {
   "cell_type": "code",
   "execution_count": 10,
   "id": "a1961f44-a5d5-491e-bce1-f1a7786456e2",
   "metadata": {},
   "outputs": [],
   "source": [
    "# load libraries\n",
    "import pandas as pd\n",
    "\n",
    "# creating python function\n",
    "def colStats(df, colName):\n",
    "    # colName should be a str\n",
    "    \n",
    "    # string to input the summary statistics in \n",
    "    output = (\"MyDf Summary Statistics ---\\n\"\n",
    "        \"Shape: {}\\n\"\n",
    "        \"Mean: {}\\n\"\n",
    "        \"Median: {}\\n\"\n",
    "        \"Standard Deviation: {}\\n\"\n",
    "        \"--------------------------\")\n",
    "    # specifying the values within each {}\n",
    "    output = output.format(df.shape, df[colName].mean().round(3), df[colName].median(), df[colName].std().round(3))\n",
    "    print(output)"
   ]
  },
  {
   "cell_type": "code",
   "execution_count": 11,
   "id": "1a79439e-0da4-4e79-bf16-e65cf2cb09ed",
   "metadata": {},
   "outputs": [
    {
     "name": "stdout",
     "output_type": "stream",
     "text": [
      "MyDf Summary Statistics ---\n",
      "Shape: (5076925, 29)\n",
      "Mean: 5.754\n",
      "Median: 0.0\n",
      "Standard Deviation: 20.611\n",
      "--------------------------\n"
     ]
    }
   ],
   "source": [
    "# read in data\n",
    "df = pd.read_csv(\"/anvil/projects/tdm/data/flights/subset/1991.csv\")\n",
    "\n",
    "# testing python function\n",
    "colStats(df=df, colName=\"DepDelay\")"
   ]
  },
  {
   "cell_type": "code",
   "execution_count": 12,
   "id": "79d927f3-ddcb-4b9a-8486-c0e83285dc4d",
   "metadata": {},
   "outputs": [],
   "source": [
    "%%R\n",
    "\n",
    "# creating R function\n",
    "colStats <- function(df, colName){\n",
    "    # colName should be a str\n",
    "    \n",
    "    # calculate the shape, mean, median and sd and save as variables\n",
    "    df_shape <- dim(df)\n",
    "    df_mean <- round(mean(df[[colName]], na.rm=TRUE), 3)\n",
    "    df_median <- median(df[[colName]], na.rm=TRUE)\n",
    "    df_sd <- round(sd(df[[colName]], na.rm=TRUE), 3)\n",
    "    # create string to print using the variables above\n",
    "    cat(\"MyDf Summary Statistics ---\\n\",\n",
    "        \"Shape: (\", df_shape[1], \",\", df_shape[2], \")\\n\",\n",
    "        \"Mean:\", df_mean, \"\\n\",\n",
    "        \"Median:\", df_median, \"\\n\",\n",
    "        \"Standard Deviation:\", df_sd, \"\\n\",\n",
    "       \"--------------------------\")\n",
    "}"
   ]
  },
  {
   "cell_type": "code",
   "execution_count": 13,
   "id": "b28dca8d-566b-406a-ac40-9129674969d2",
   "metadata": {},
   "outputs": [
    {
     "name": "stdout",
     "output_type": "stream",
     "text": [
      "MyDf Summary Statistics ---\n",
      " Shape: ( 5076925 , 29 )\n",
      " Mean: 5.754 \n",
      " Median: 0 \n",
      " Standard Deviation: 20.611 \n",
      " --------------------------"
     ]
    }
   ],
   "source": [
    "%%R\n",
    "\n",
    "# read in data\n",
    "df <- read.csv(\"/anvil/projects/tdm/data/flights/subset/1991.csv\")\n",
    "\n",
    "# testing R function\n",
    "colStats(df = df, colName = \"DepDelay\")"
   ]
  },
  {
   "cell_type": "markdown",
   "id": "f76442d6-d02e-4f26-b9d6-c3183e1d6929",
   "metadata": {},
   "source": [
    "## Pledge\n",
    "\n",
    "By submitting this work I hereby pledge that this is my own, personal work. I've acknowledged in the designated place at the top of this file all sources that I used to complete said work, including but not limited to: online resources, books, and electronic communications. I've noted all collaboration with fellow students and/or TA's. I did not copy or plagiarize another's work.\n",
    "\n",
    "> As a Boilermaker pursuing academic excellence, I pledge to be honest and true in all that I do. Accountable together – We are Purdue."
   ]
  }
 ],
 "metadata": {
  "kernelspec": {
   "display_name": "seminar",
   "language": "python",
   "name": "seminar"
  },
  "language_info": {
   "codemirror_mode": {
    "name": "ipython",
    "version": 3
   },
   "file_extension": ".py",
   "mimetype": "text/x-python",
   "name": "python",
   "nbconvert_exporter": "python",
   "pygments_lexer": "ipython3",
   "version": "3.11.3"
  }
 },
 "nbformat": 4,
 "nbformat_minor": 5
}
